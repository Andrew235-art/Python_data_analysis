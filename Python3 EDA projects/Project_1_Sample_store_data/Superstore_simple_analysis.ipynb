{
 "cells": [
  {
   "cell_type": "markdown",
   "id": "7b953626-3c85-4a0f-9017-5225cd09e64c",
   "metadata": {},
   "source": [
    "## Statistical analysis on the superstore dataset"
   ]
  },
  {
   "cell_type": "code",
   "execution_count": 2,
   "id": "d6f6769a-ccc3-43cd-9bb9-11b28f788007",
   "metadata": {},
   "outputs": [],
   "source": [
    "# Importing the required modules for the project.\n",
    "\n",
    "import pandas as pd        # To create and manipulate pandas DataFrames \n",
    "import numpy as np         # for further statistical analysis of DataFrames\n",
    "import xlrd                # for reading excel workbooks/worksheets."
   ]
  },
  {
   "cell_type": "code",
   "execution_count": 12,
   "id": "f4ceab74-803f-457c-bb59-5619f900e14e",
   "metadata": {},
   "outputs": [],
   "source": [
    "# Reading the excel data into the df variable.\n",
    "\n",
    "df = pd.read_excel('Superstore.xls')"
   ]
  },
  {
   "cell_type": "code",
   "execution_count": 13,
   "id": "f0b433ed-5038-4848-b55c-7528afca789e",
   "metadata": {},
   "outputs": [
    {
     "data": {
      "text/html": [
       "<div>\n",
       "<style scoped>\n",
       "    .dataframe tbody tr th:only-of-type {\n",
       "        vertical-align: middle;\n",
       "    }\n",
       "\n",
       "    .dataframe tbody tr th {\n",
       "        vertical-align: top;\n",
       "    }\n",
       "\n",
       "    .dataframe thead th {\n",
       "        text-align: right;\n",
       "    }\n",
       "</style>\n",
       "<table border=\"1\" class=\"dataframe\">\n",
       "  <thead>\n",
       "    <tr style=\"text-align: right;\">\n",
       "      <th></th>\n",
       "      <th>Row ID</th>\n",
       "      <th>Order ID</th>\n",
       "      <th>Order Date</th>\n",
       "      <th>Ship Date</th>\n",
       "      <th>Ship Mode</th>\n",
       "      <th>Customer ID</th>\n",
       "      <th>Customer Name</th>\n",
       "      <th>Segment</th>\n",
       "      <th>Country/Region</th>\n",
       "      <th>City</th>\n",
       "      <th>...</th>\n",
       "      <th>Postal Code</th>\n",
       "      <th>Region</th>\n",
       "      <th>Product ID</th>\n",
       "      <th>Category</th>\n",
       "      <th>Sub-Category</th>\n",
       "      <th>Product Name</th>\n",
       "      <th>Sales</th>\n",
       "      <th>Quantity</th>\n",
       "      <th>Discount</th>\n",
       "      <th>Profit</th>\n",
       "    </tr>\n",
       "  </thead>\n",
       "  <tbody>\n",
       "    <tr>\n",
       "      <th>0</th>\n",
       "      <td>1</td>\n",
       "      <td>CA-2020-152156</td>\n",
       "      <td>2020-11-08</td>\n",
       "      <td>2020-11-11</td>\n",
       "      <td>Second Class</td>\n",
       "      <td>CG-12520</td>\n",
       "      <td>Claire Gute</td>\n",
       "      <td>Consumer</td>\n",
       "      <td>United States</td>\n",
       "      <td>Henderson</td>\n",
       "      <td>...</td>\n",
       "      <td>42420.0</td>\n",
       "      <td>South</td>\n",
       "      <td>FUR-BO-10001798</td>\n",
       "      <td>Furniture</td>\n",
       "      <td>Bookcases</td>\n",
       "      <td>Bush Somerset Collection Bookcase</td>\n",
       "      <td>261.9600</td>\n",
       "      <td>2</td>\n",
       "      <td>0.00</td>\n",
       "      <td>41.9136</td>\n",
       "    </tr>\n",
       "    <tr>\n",
       "      <th>1</th>\n",
       "      <td>2</td>\n",
       "      <td>CA-2020-152156</td>\n",
       "      <td>2020-11-08</td>\n",
       "      <td>2020-11-11</td>\n",
       "      <td>Second Class</td>\n",
       "      <td>CG-12520</td>\n",
       "      <td>Claire Gute</td>\n",
       "      <td>Consumer</td>\n",
       "      <td>United States</td>\n",
       "      <td>Henderson</td>\n",
       "      <td>...</td>\n",
       "      <td>42420.0</td>\n",
       "      <td>South</td>\n",
       "      <td>FUR-CH-10000454</td>\n",
       "      <td>Furniture</td>\n",
       "      <td>Chairs</td>\n",
       "      <td>Hon Deluxe Fabric Upholstered Stacking Chairs,...</td>\n",
       "      <td>731.9400</td>\n",
       "      <td>3</td>\n",
       "      <td>0.00</td>\n",
       "      <td>219.5820</td>\n",
       "    </tr>\n",
       "    <tr>\n",
       "      <th>2</th>\n",
       "      <td>3</td>\n",
       "      <td>CA-2020-138688</td>\n",
       "      <td>2020-06-12</td>\n",
       "      <td>2020-06-16</td>\n",
       "      <td>Second Class</td>\n",
       "      <td>DV-13045</td>\n",
       "      <td>Darrin Van Huff</td>\n",
       "      <td>Corporate</td>\n",
       "      <td>United States</td>\n",
       "      <td>Los Angeles</td>\n",
       "      <td>...</td>\n",
       "      <td>90036.0</td>\n",
       "      <td>West</td>\n",
       "      <td>OFF-LA-10000240</td>\n",
       "      <td>Office Supplies</td>\n",
       "      <td>Labels</td>\n",
       "      <td>Self-Adhesive Address Labels for Typewriters b...</td>\n",
       "      <td>14.6200</td>\n",
       "      <td>2</td>\n",
       "      <td>0.00</td>\n",
       "      <td>6.8714</td>\n",
       "    </tr>\n",
       "    <tr>\n",
       "      <th>3</th>\n",
       "      <td>4</td>\n",
       "      <td>US-2019-108966</td>\n",
       "      <td>2019-10-11</td>\n",
       "      <td>2019-10-18</td>\n",
       "      <td>Standard Class</td>\n",
       "      <td>SO-20335</td>\n",
       "      <td>Sean O'Donnell</td>\n",
       "      <td>Consumer</td>\n",
       "      <td>United States</td>\n",
       "      <td>Fort Lauderdale</td>\n",
       "      <td>...</td>\n",
       "      <td>33311.0</td>\n",
       "      <td>South</td>\n",
       "      <td>FUR-TA-10000577</td>\n",
       "      <td>Furniture</td>\n",
       "      <td>Tables</td>\n",
       "      <td>Bretford CR4500 Series Slim Rectangular Table</td>\n",
       "      <td>957.5775</td>\n",
       "      <td>5</td>\n",
       "      <td>0.45</td>\n",
       "      <td>-383.0310</td>\n",
       "    </tr>\n",
       "    <tr>\n",
       "      <th>4</th>\n",
       "      <td>5</td>\n",
       "      <td>US-2019-108966</td>\n",
       "      <td>2019-10-11</td>\n",
       "      <td>2019-10-18</td>\n",
       "      <td>Standard Class</td>\n",
       "      <td>SO-20335</td>\n",
       "      <td>Sean O'Donnell</td>\n",
       "      <td>Consumer</td>\n",
       "      <td>United States</td>\n",
       "      <td>Fort Lauderdale</td>\n",
       "      <td>...</td>\n",
       "      <td>33311.0</td>\n",
       "      <td>South</td>\n",
       "      <td>OFF-ST-10000760</td>\n",
       "      <td>Office Supplies</td>\n",
       "      <td>Storage</td>\n",
       "      <td>Eldon Fold 'N Roll Cart System</td>\n",
       "      <td>22.3680</td>\n",
       "      <td>2</td>\n",
       "      <td>0.20</td>\n",
       "      <td>2.5164</td>\n",
       "    </tr>\n",
       "  </tbody>\n",
       "</table>\n",
       "<p>5 rows × 21 columns</p>\n",
       "</div>"
      ],
      "text/plain": [
       "   Row ID        Order ID Order Date  Ship Date       Ship Mode Customer ID  \\\n",
       "0       1  CA-2020-152156 2020-11-08 2020-11-11    Second Class    CG-12520   \n",
       "1       2  CA-2020-152156 2020-11-08 2020-11-11    Second Class    CG-12520   \n",
       "2       3  CA-2020-138688 2020-06-12 2020-06-16    Second Class    DV-13045   \n",
       "3       4  US-2019-108966 2019-10-11 2019-10-18  Standard Class    SO-20335   \n",
       "4       5  US-2019-108966 2019-10-11 2019-10-18  Standard Class    SO-20335   \n",
       "\n",
       "     Customer Name    Segment Country/Region             City  ...  \\\n",
       "0      Claire Gute   Consumer  United States        Henderson  ...   \n",
       "1      Claire Gute   Consumer  United States        Henderson  ...   \n",
       "2  Darrin Van Huff  Corporate  United States      Los Angeles  ...   \n",
       "3   Sean O'Donnell   Consumer  United States  Fort Lauderdale  ...   \n",
       "4   Sean O'Donnell   Consumer  United States  Fort Lauderdale  ...   \n",
       "\n",
       "  Postal Code  Region       Product ID         Category Sub-Category  \\\n",
       "0     42420.0   South  FUR-BO-10001798        Furniture    Bookcases   \n",
       "1     42420.0   South  FUR-CH-10000454        Furniture       Chairs   \n",
       "2     90036.0    West  OFF-LA-10000240  Office Supplies       Labels   \n",
       "3     33311.0   South  FUR-TA-10000577        Furniture       Tables   \n",
       "4     33311.0   South  OFF-ST-10000760  Office Supplies      Storage   \n",
       "\n",
       "                                        Product Name     Sales  Quantity  \\\n",
       "0                  Bush Somerset Collection Bookcase  261.9600         2   \n",
       "1  Hon Deluxe Fabric Upholstered Stacking Chairs,...  731.9400         3   \n",
       "2  Self-Adhesive Address Labels for Typewriters b...   14.6200         2   \n",
       "3      Bretford CR4500 Series Slim Rectangular Table  957.5775         5   \n",
       "4                     Eldon Fold 'N Roll Cart System   22.3680         2   \n",
       "\n",
       "   Discount    Profit  \n",
       "0      0.00   41.9136  \n",
       "1      0.00  219.5820  \n",
       "2      0.00    6.8714  \n",
       "3      0.45 -383.0310  \n",
       "4      0.20    2.5164  \n",
       "\n",
       "[5 rows x 21 columns]"
      ]
     },
     "execution_count": 13,
     "metadata": {},
     "output_type": "execute_result"
    }
   ],
   "source": [
    "# Taking a closer look at the data through the first 5 records of the whole dataset using the head() function.\n",
    "\n",
    "df.head(5)"
   ]
  },
  {
   "cell_type": "code",
   "execution_count": 14,
   "id": "4f2fc82a-afed-45ae-8f1a-dcb0e4fa7911",
   "metadata": {},
   "outputs": [
    {
     "data": {
      "text/plain": [
       "0"
      ]
     },
     "execution_count": 14,
     "metadata": {},
     "output_type": "execute_result"
    }
   ],
   "source": [
    "# Checking for if there's any duplicate values inside the datatset\n",
    "\n",
    "df.duplicated().sum()"
   ]
  },
  {
   "cell_type": "code",
   "execution_count": 15,
   "id": "464ebe47-70c2-4193-980b-14447bf324d4",
   "metadata": {},
   "outputs": [
    {
     "data": {
      "text/plain": [
       "Index(['Row ID', 'Order ID', 'Order Date', 'Ship Date', 'Ship Mode',\n",
       "       'Customer ID', 'Customer Name', 'Segment', 'Country/Region', 'City',\n",
       "       'State', 'Postal Code', 'Region', 'Product ID', 'Category',\n",
       "       'Sub-Category', 'Product Name', 'Sales', 'Quantity', 'Discount',\n",
       "       'Profit'],\n",
       "      dtype='object')"
      ]
     },
     "execution_count": 15,
     "metadata": {},
     "output_type": "execute_result"
    }
   ],
   "source": [
    "# Listing and taking a closer look at all the columns inside the dataset. \n",
    "\n",
    "df.columns"
   ]
  },
  {
   "cell_type": "code",
   "execution_count": 43,
   "id": "a3ab0083-cbc0-49ad-a44d-b0ce30b44149",
   "metadata": {},
   "outputs": [
    {
     "data": {
      "text/html": [
       "<div>\n",
       "<style scoped>\n",
       "    .dataframe tbody tr th:only-of-type {\n",
       "        vertical-align: middle;\n",
       "    }\n",
       "\n",
       "    .dataframe tbody tr th {\n",
       "        vertical-align: top;\n",
       "    }\n",
       "\n",
       "    .dataframe thead th {\n",
       "        text-align: right;\n",
       "    }\n",
       "</style>\n",
       "<table border=\"1\" class=\"dataframe\">\n",
       "  <thead>\n",
       "    <tr style=\"text-align: right;\">\n",
       "      <th></th>\n",
       "      <th>Product ID</th>\n",
       "      <th>Product Name</th>\n",
       "      <th>Category</th>\n",
       "      <th>Sub-Category</th>\n",
       "      <th>Quantity</th>\n",
       "      <th>Sales</th>\n",
       "      <th>Profit</th>\n",
       "    </tr>\n",
       "  </thead>\n",
       "  <tbody>\n",
       "    <tr>\n",
       "      <th>0</th>\n",
       "      <td>FUR-BO-10001798</td>\n",
       "      <td>Bush Somerset Collection Bookcase</td>\n",
       "      <td>Furniture</td>\n",
       "      <td>Bookcases</td>\n",
       "      <td>2</td>\n",
       "      <td>261.9600</td>\n",
       "      <td>41.9136</td>\n",
       "    </tr>\n",
       "    <tr>\n",
       "      <th>1</th>\n",
       "      <td>FUR-CH-10000454</td>\n",
       "      <td>Hon Deluxe Fabric Upholstered Stacking Chairs,...</td>\n",
       "      <td>Furniture</td>\n",
       "      <td>Chairs</td>\n",
       "      <td>3</td>\n",
       "      <td>731.9400</td>\n",
       "      <td>219.5820</td>\n",
       "    </tr>\n",
       "    <tr>\n",
       "      <th>2</th>\n",
       "      <td>OFF-LA-10000240</td>\n",
       "      <td>Self-Adhesive Address Labels for Typewriters b...</td>\n",
       "      <td>Office Supplies</td>\n",
       "      <td>Labels</td>\n",
       "      <td>2</td>\n",
       "      <td>14.6200</td>\n",
       "      <td>6.8714</td>\n",
       "    </tr>\n",
       "    <tr>\n",
       "      <th>3</th>\n",
       "      <td>FUR-TA-10000577</td>\n",
       "      <td>Bretford CR4500 Series Slim Rectangular Table</td>\n",
       "      <td>Furniture</td>\n",
       "      <td>Tables</td>\n",
       "      <td>5</td>\n",
       "      <td>957.5775</td>\n",
       "      <td>-383.0310</td>\n",
       "    </tr>\n",
       "    <tr>\n",
       "      <th>4</th>\n",
       "      <td>OFF-ST-10000760</td>\n",
       "      <td>Eldon Fold 'N Roll Cart System</td>\n",
       "      <td>Office Supplies</td>\n",
       "      <td>Storage</td>\n",
       "      <td>2</td>\n",
       "      <td>22.3680</td>\n",
       "      <td>2.5164</td>\n",
       "    </tr>\n",
       "  </tbody>\n",
       "</table>\n",
       "</div>"
      ],
      "text/plain": [
       "        Product ID                                       Product Name  \\\n",
       "0  FUR-BO-10001798                  Bush Somerset Collection Bookcase   \n",
       "1  FUR-CH-10000454  Hon Deluxe Fabric Upholstered Stacking Chairs,...   \n",
       "2  OFF-LA-10000240  Self-Adhesive Address Labels for Typewriters b...   \n",
       "3  FUR-TA-10000577      Bretford CR4500 Series Slim Rectangular Table   \n",
       "4  OFF-ST-10000760                     Eldon Fold 'N Roll Cart System   \n",
       "\n",
       "          Category Sub-Category  Quantity     Sales    Profit  \n",
       "0        Furniture    Bookcases         2  261.9600   41.9136  \n",
       "1        Furniture       Chairs         3  731.9400  219.5820  \n",
       "2  Office Supplies       Labels         2   14.6200    6.8714  \n",
       "3        Furniture       Tables         5  957.5775 -383.0310  \n",
       "4  Office Supplies      Storage         2   22.3680    2.5164  "
      ]
     },
     "execution_count": 43,
     "metadata": {},
     "output_type": "execute_result"
    }
   ],
   "source": [
    "# selecting a list of sample columns of interest i.e [\"Product ID\", \"Quantity\",\n",
    "# \"Sales\", \"Profit\"] to take a look at the first 5 values / records from each using the head() function.\n",
    "\n",
    "\n",
    "mask_sample_df = df[['Product ID', 'Product Name', \n",
    "                     'Category', 'Sub-Category','Quantity', 'Sales', 'Profit']].head()\n",
    "mask_sample_df"
   ]
  },
  {
   "cell_type": "code",
   "execution_count": 30,
   "id": "05221437-b58f-4754-98db-9cd800735fed",
   "metadata": {},
   "outputs": [
    {
     "data": {
      "text/plain": [
       "array(['Bush Somerset Collection Bookcase',\n",
       "       'Hon Deluxe Fabric Upholstered Stacking Chairs, Rounded Back',\n",
       "       'Self-Adhesive Address Labels for Typewriters by Universal', ...,\n",
       "       'Eureka Hand Vacuum, Bagless', 'LG G2',\n",
       "       'Eldon Jumbo ProFile Portable File Boxes Graphite/Black'],\n",
       "      dtype=object)"
      ]
     },
     "execution_count": 30,
     "metadata": {},
     "output_type": "execute_result"
    }
   ],
   "source": [
    "\n",
    "all_different_products = df['Product Name'].unique()\n",
    "all_different_products"
   ]
  },
  {
   "cell_type": "code",
   "execution_count": 49,
   "id": "6933f5c3-aa12-4fdf-9626-25e68dcbe502",
   "metadata": {},
   "outputs": [
    {
     "data": {
      "text/plain": [
       "numpy.ndarray"
      ]
     },
     "execution_count": 49,
     "metadata": {},
     "output_type": "execute_result"
    }
   ],
   "source": [
    "type(all_different_products)"
   ]
  },
  {
   "cell_type": "code",
   "execution_count": 52,
   "id": "d795a5f2-3b51-4749-9b5a-f68d77e827d5",
   "metadata": {},
   "outputs": [
    {
     "name": "stdout",
     "output_type": "stream",
     "text": [
      "1849\n"
     ]
    }
   ],
   "source": [
    "print(np.count_nonzero(all_different_products))"
   ]
  },
  {
   "cell_type": "code",
   "execution_count": 45,
   "id": "444bdb81-6320-4c64-82a2-526f7f9ea2aa",
   "metadata": {},
   "outputs": [
    {
     "data": {
      "text/plain": [
       "array(['Furniture', 'Office Supplies', 'Technology'], dtype=object)"
      ]
     },
     "execution_count": 45,
     "metadata": {},
     "output_type": "execute_result"
    }
   ],
   "source": [
    "all_diff_categories = df['Category'].unique()\n",
    "all_diff_categories"
   ]
  },
  {
   "cell_type": "code",
   "execution_count": 53,
   "id": "a6e7f3b0-343c-490d-ae3f-44b4ffc3043f",
   "metadata": {},
   "outputs": [
    {
     "data": {
      "text/plain": [
       "numpy.ndarray"
      ]
     },
     "execution_count": 53,
     "metadata": {},
     "output_type": "execute_result"
    }
   ],
   "source": [
    "type(all_diff_categories)"
   ]
  },
  {
   "cell_type": "code",
   "execution_count": 54,
   "id": "6051eb84-7102-4de9-aa1f-7e484f99ba03",
   "metadata": {},
   "outputs": [
    {
     "name": "stdout",
     "output_type": "stream",
     "text": [
      "3\n"
     ]
    }
   ],
   "source": [
    "print(np.count_nonzero(all_diff_categories))"
   ]
  },
  {
   "cell_type": "code",
   "execution_count": 56,
   "id": "63ab8d68-df5d-47b5-b169-3a84c4e74883",
   "metadata": {},
   "outputs": [
    {
     "data": {
      "text/plain": [
       "array(['Bookcases', 'Chairs', 'Labels', 'Tables', 'Storage',\n",
       "       'Furnishings', 'Art', 'Phones', 'Binders', 'Appliances', 'Paper',\n",
       "       'Accessories', 'Envelopes', 'Fasteners', 'Supplies', 'Machines',\n",
       "       'Copiers'], dtype=object)"
      ]
     },
     "execution_count": 56,
     "metadata": {},
     "output_type": "execute_result"
    }
   ],
   "source": [
    "all_diff_subcategories = df['Sub-Category'].unique()\n",
    "all_diff_subcategories"
   ]
  },
  {
   "cell_type": "code",
   "execution_count": 57,
   "id": "4d6b0105-953f-4b15-8eb7-92cbf0df0125",
   "metadata": {},
   "outputs": [
    {
     "name": "stdout",
     "output_type": "stream",
     "text": [
      "17\n"
     ]
    }
   ],
   "source": [
    "print(np.count_nonzero(all_diff_subcategories))"
   ]
  },
  {
   "cell_type": "code",
   "execution_count": 27,
   "id": "057ec867-5965-4425-99d7-781814978f40",
   "metadata": {},
   "outputs": [
    {
     "name": "stdout",
     "output_type": "stream",
     "text": [
      "Overall Product Quantity: 37873\n"
     ]
    }
   ],
   "source": [
    "# Finding the overall sum of the \"Quantinty column\" in the whole dataset \n",
    "\n",
    "Sum_prod_quantity = df[['Quantity']].sum().sum()\n",
    "print(f\"Overall Product Quantity: {Sum_prod_quantity}\")"
   ]
  },
  {
   "cell_type": "code",
   "execution_count": 69,
   "id": "1c844bc5-7b6f-4634-b591-2e7d79d706e5",
   "metadata": {},
   "outputs": [
    {
     "name": "stdout",
     "output_type": "stream",
     "text": [
      "2297200.86\n"
     ]
    }
   ],
   "source": [
    "# Sample stats on the Sales column values.\n",
    "# finding the sum of all the sales made in the dataset using the \"Sales\" values provided.\n",
    "\n",
    "print(round(float(df.loc[0:,'Sales'].sum()),3))"
   ]
  },
  {
   "cell_type": "code",
   "execution_count": 71,
   "id": "6fbcd44f-0b6c-4004-ace7-7c1497651a9e",
   "metadata": {},
   "outputs": [
    {
     "name": "stdout",
     "output_type": "stream",
     "text": [
      "286397.022\n"
     ]
    }
   ],
   "source": [
    "# Sample stats on the Profit column values.\n",
    "# finding the sum of all the Profit made in the dataset using the \"Profit\" values provided.\n",
    "\n",
    "print(round(float(df.loc[0:,'Profit'].sum()),3))"
   ]
  },
  {
   "cell_type": "markdown",
   "id": "42935693-705f-4673-86a2-51b0a9416039",
   "metadata": {},
   "source": [
    "### Looking at he 5-number summary on a few chosen columns i.e Q1(quartile of the lower quarter/left hand side of the dataset),Q2(median of the whole dataset), Q3(quartile of the higher quarter/right hand side of the data), Mean value(average value of the whole dataset), Min(lowest value of the dataset), Max(Highest value of the dataset)"
   ]
  },
  {
   "cell_type": "markdown",
   "id": "d2090af6-cb64-4b8b-9ff3-111e771b272b",
   "metadata": {},
   "source": [
    "#### Quantity, Sales and Profits columns."
   ]
  },
  {
   "cell_type": "markdown",
   "id": "86a8bd9f-2185-4bed-8ce9-8e3b5c4dcde4",
   "metadata": {},
   "source": [
    "#### Sorting the data subset by the Sales column in ascending order"
   ]
  },
  {
   "cell_type": "code",
   "execution_count": 137,
   "id": "b3f535a4-bc01-4d52-bf8a-c60ad23d6949",
   "metadata": {},
   "outputs": [
    {
     "data": {
      "text/html": [
       "<div>\n",
       "<style scoped>\n",
       "    .dataframe tbody tr th:only-of-type {\n",
       "        vertical-align: middle;\n",
       "    }\n",
       "\n",
       "    .dataframe tbody tr th {\n",
       "        vertical-align: top;\n",
       "    }\n",
       "\n",
       "    .dataframe thead th {\n",
       "        text-align: right;\n",
       "    }\n",
       "</style>\n",
       "<table border=\"1\" class=\"dataframe\">\n",
       "  <thead>\n",
       "    <tr style=\"text-align: right;\">\n",
       "      <th></th>\n",
       "      <th>Quantity</th>\n",
       "      <th>Sales</th>\n",
       "      <th>Profit</th>\n",
       "    </tr>\n",
       "  </thead>\n",
       "  <tbody>\n",
       "    <tr>\n",
       "      <th>4101</th>\n",
       "      <td>1</td>\n",
       "      <td>0.444</td>\n",
       "      <td>-1.1100</td>\n",
       "    </tr>\n",
       "    <tr>\n",
       "      <th>9292</th>\n",
       "      <td>1</td>\n",
       "      <td>0.556</td>\n",
       "      <td>-0.9452</td>\n",
       "    </tr>\n",
       "    <tr>\n",
       "      <th>8658</th>\n",
       "      <td>1</td>\n",
       "      <td>0.836</td>\n",
       "      <td>-1.3376</td>\n",
       "    </tr>\n",
       "    <tr>\n",
       "      <th>4711</th>\n",
       "      <td>1</td>\n",
       "      <td>0.852</td>\n",
       "      <td>-0.5964</td>\n",
       "    </tr>\n",
       "    <tr>\n",
       "      <th>2106</th>\n",
       "      <td>1</td>\n",
       "      <td>0.876</td>\n",
       "      <td>-1.4016</td>\n",
       "    </tr>\n",
       "  </tbody>\n",
       "</table>\n",
       "</div>"
      ],
      "text/plain": [
       "      Quantity  Sales  Profit\n",
       "4101         1  0.444 -1.1100\n",
       "9292         1  0.556 -0.9452\n",
       "8658         1  0.836 -1.3376\n",
       "4711         1  0.852 -0.5964\n",
       "2106         1  0.876 -1.4016"
      ]
     },
     "execution_count": 137,
     "metadata": {},
     "output_type": "execute_result"
    }
   ],
   "source": [
    "mask_data = df[[\"Quantity\",\"Sales\",\"Profit\"]].sort_values(by = \"Sales\", ascending = True)\n",
    "mask_data.head() # first five records of the subset data"
   ]
  },
  {
   "cell_type": "code",
   "execution_count": 138,
   "id": "80cfcf49-534e-404d-aa7c-7a8f00cfca45",
   "metadata": {},
   "outputs": [
    {
     "data": {
      "text/html": [
       "<div>\n",
       "<style scoped>\n",
       "    .dataframe tbody tr th:only-of-type {\n",
       "        vertical-align: middle;\n",
       "    }\n",
       "\n",
       "    .dataframe tbody tr th {\n",
       "        vertical-align: top;\n",
       "    }\n",
       "\n",
       "    .dataframe thead th {\n",
       "        text-align: right;\n",
       "    }\n",
       "</style>\n",
       "<table border=\"1\" class=\"dataframe\">\n",
       "  <thead>\n",
       "    <tr style=\"text-align: right;\">\n",
       "      <th></th>\n",
       "      <th>Quantity</th>\n",
       "      <th>Sales</th>\n",
       "      <th>Profit</th>\n",
       "    </tr>\n",
       "  </thead>\n",
       "  <tbody>\n",
       "    <tr>\n",
       "      <th>4190</th>\n",
       "      <td>3</td>\n",
       "      <td>10499.970</td>\n",
       "      <td>5039.9856</td>\n",
       "    </tr>\n",
       "    <tr>\n",
       "      <th>2623</th>\n",
       "      <td>4</td>\n",
       "      <td>11199.968</td>\n",
       "      <td>3919.9888</td>\n",
       "    </tr>\n",
       "    <tr>\n",
       "      <th>8153</th>\n",
       "      <td>4</td>\n",
       "      <td>13999.960</td>\n",
       "      <td>6719.9808</td>\n",
       "    </tr>\n",
       "    <tr>\n",
       "      <th>6826</th>\n",
       "      <td>5</td>\n",
       "      <td>17499.950</td>\n",
       "      <td>8399.9760</td>\n",
       "    </tr>\n",
       "    <tr>\n",
       "      <th>2697</th>\n",
       "      <td>6</td>\n",
       "      <td>22638.480</td>\n",
       "      <td>-1811.0784</td>\n",
       "    </tr>\n",
       "  </tbody>\n",
       "</table>\n",
       "</div>"
      ],
      "text/plain": [
       "      Quantity      Sales     Profit\n",
       "4190         3  10499.970  5039.9856\n",
       "2623         4  11199.968  3919.9888\n",
       "8153         4  13999.960  6719.9808\n",
       "6826         5  17499.950  8399.9760\n",
       "2697         6  22638.480 -1811.0784"
      ]
     },
     "execution_count": 138,
     "metadata": {},
     "output_type": "execute_result"
    }
   ],
   "source": [
    "mask_data.tail() # last five records of the subset data."
   ]
  },
  {
   "cell_type": "markdown",
   "id": "e0e14b2e-d12d-4153-a953-33522ec2e7dd",
   "metadata": {},
   "source": [
    "#### Average Values for the above columns of interest."
   ]
  },
  {
   "cell_type": "code",
   "execution_count": 111,
   "id": "45442ab2-c1f6-41c5-b6cf-eb5c23839eb7",
   "metadata": {},
   "outputs": [
    {
     "name": "stdout",
     "output_type": "stream",
     "text": [
      "Average Quantity: 4.73\n"
     ]
    }
   ],
   "source": [
    "average_quantity = mask_data.loc[0:,'Quantity'].mean().mean().round(2)\n",
    "print(f\"Average Quantity: {average_quantity}\")"
   ]
  },
  {
   "cell_type": "code",
   "execution_count": 108,
   "id": "9a18cfd9-c284-4b73-a188-b8bc582fe72b",
   "metadata": {},
   "outputs": [
    {
     "name": "stdout",
     "output_type": "stream",
     "text": [
      "Sales Average: 859.87\n"
     ]
    }
   ],
   "source": [
    "average_sales = mask_data.loc[0:,'Sales'].mean().mean().round(2)\n",
    "print(f\"Sales Average: {average_sales}\")"
   ]
  },
  {
   "cell_type": "code",
   "execution_count": 112,
   "id": "3fdee1f8-7e43-4618-b124-971fef20bbca",
   "metadata": {},
   "outputs": [
    {
     "name": "stdout",
     "output_type": "stream",
     "text": [
      "Average Profit: 102.2\n"
     ]
    }
   ],
   "source": [
    "average_profit = mask_data.loc[0:,'Profit'].mean().mean().round(2)\n",
    "print(f\"Average Profit: {average_profit}\")"
   ]
  },
  {
   "cell_type": "markdown",
   "id": "719ea342-1d4f-40d4-afda-d78dc3b9e046",
   "metadata": {},
   "source": [
    "#### Highest values made within the above columns of interest."
   ]
  },
  {
   "cell_type": "code",
   "execution_count": 116,
   "id": "e7416c79-4c92-4fb1-b3d0-03f28959c599",
   "metadata": {},
   "outputs": [
    {
     "name": "stdout",
     "output_type": "stream",
     "text": [
      "Highest Quantity sold in the dataset: 14\n"
     ]
    }
   ],
   "source": [
    "Max_quantity = mask_data.loc[0:,'Quantity'].max().max().round(2)\n",
    "print(f\"Highest Quantity sold in the dataset: {Max_quantity}\")"
   ]
  },
  {
   "cell_type": "code",
   "execution_count": 117,
   "id": "27f38da7-c679-4506-a1fe-ce6154575c14",
   "metadata": {},
   "outputs": [
    {
     "name": "stdout",
     "output_type": "stream",
     "text": [
      "Highest Sale made in the dataset: 22638.48\n"
     ]
    }
   ],
   "source": [
    "Max_sales = mask_data.loc[0:,'Sales'].max().max().round(2)\n",
    "print(f\"Highest Sale made in the dataset: {Max_sales}\")"
   ]
  },
  {
   "cell_type": "code",
   "execution_count": 118,
   "id": "4ba7d9cc-cada-4cdb-8b53-6f655fcd3cab",
   "metadata": {},
   "outputs": [
    {
     "name": "stdout",
     "output_type": "stream",
     "text": [
      "Highest Profit made in the dataset: 8399.98\n"
     ]
    }
   ],
   "source": [
    "Max_profit = mask_data.loc[0:,'Profit'].max().max().round(2)\n",
    "print(f\"Highest Profit made in the dataset: {Max_profit}\")"
   ]
  },
  {
   "cell_type": "markdown",
   "id": "91158151-943a-4081-8a66-36cfa70f180d",
   "metadata": {
    "tags": []
   },
   "source": [
    "#### Lowest values made within the above columns of interest."
   ]
  },
  {
   "cell_type": "code",
   "execution_count": 124,
   "id": "ec2012f0-0e72-47ef-a82d-d10ba82e70f2",
   "metadata": {},
   "outputs": [
    {
     "name": "stdout",
     "output_type": "stream",
     "text": [
      "Lowest Quantity value in the dataset: 1\n"
     ]
    }
   ],
   "source": [
    "minimum_quantity = mask_data.loc[0:,'Quantity'].min().min().round(2)\n",
    "print(f\"Lowest Quantity value in the dataset: {minimum_quantity}\")"
   ]
  },
  {
   "cell_type": "code",
   "execution_count": 125,
   "id": "b0c3c5e5-1f88-4229-a9ad-c8a1a1e86111",
   "metadata": {},
   "outputs": [
    {
     "name": "stdout",
     "output_type": "stream",
     "text": [
      "Lowest Sales value made in the dataset: 261.96\n"
     ]
    }
   ],
   "source": [
    "minimum_sales = mask_data.loc[0:,'Sales'].min().min().round(2)\n",
    "print(f\"Lowest Sales value made in the dataset: {minimum_sales}\")"
   ]
  },
  {
   "cell_type": "code",
   "execution_count": 126,
   "id": "b5fa4bae-784d-4ee2-aff8-0e25fedd929e",
   "metadata": {},
   "outputs": [
    {
     "name": "stdout",
     "output_type": "stream",
     "text": [
      "Lowest Profit value made in the dataset: -6599.98\n"
     ]
    }
   ],
   "source": [
    "minimum_profit = mask_data.loc[0:,'Profit'].min().min().round(2)\n",
    "print(f\"Lowest Profit value made in the dataset: {minimum_profit}\")"
   ]
  },
  {
   "cell_type": "markdown",
   "id": "12c0f8d2-c6b4-419c-b28a-b8104332f161",
   "metadata": {},
   "source": [
    "#### Range of values between the highest and lowest values in the above sample column data"
   ]
  },
  {
   "cell_type": "code",
   "execution_count": 129,
   "id": "970110a6-e771-4025-8045-2acf4eff2e91",
   "metadata": {},
   "outputs": [
    {
     "name": "stdout",
     "output_type": "stream",
     "text": [
      "Sales diff:  22376.52\n"
     ]
    }
   ],
   "source": [
    "Range = Max_sales - minimum_sales \n",
    "print('Sales diff: ', Range)"
   ]
  },
  {
   "cell_type": "code",
   "execution_count": 130,
   "id": "0a603b2c-1ac8-41b6-a70e-f0253eb10937",
   "metadata": {},
   "outputs": [
    {
     "name": "stdout",
     "output_type": "stream",
     "text": [
      "Quantity diff:  13\n"
     ]
    }
   ],
   "source": [
    "Range = Max_quantity - minimum_quantity \n",
    "print('Quantity diff: ', Range)"
   ]
  },
  {
   "cell_type": "code",
   "execution_count": 135,
   "id": "b0de3875-d7c7-4c9a-82bd-421ff5a3ce41",
   "metadata": {},
   "outputs": [
    {
     "name": "stdout",
     "output_type": "stream",
     "text": [
      "Profit diff:  14999.96\n"
     ]
    }
   ],
   "source": [
    "Range = Max_profit - (minimum_profit)\n",
    "print('Profit diff: ', Range)"
   ]
  },
  {
   "cell_type": "markdown",
   "id": "2ea45b10-232d-45a7-ab60-bc8134296575",
   "metadata": {},
   "source": [
    "### Individual column drill down stats i.e Sales Column as an example."
   ]
  },
  {
   "cell_type": "markdown",
   "id": "d29846a6-a7ce-4e04-a6bd-206ca6bc5bea",
   "metadata": {},
   "source": [
    "#### Q2(Median values of the above columns)"
   ]
  },
  {
   "cell_type": "code",
   "execution_count": 91,
   "id": "a182c04c-961c-4c6c-8f41-c4391017b9ed",
   "metadata": {},
   "outputs": [
    {
     "name": "stdout",
     "output_type": "stream",
     "text": [
      "Median sales range / 50th percentile: 54.49\n"
     ]
    }
   ],
   "source": [
    "median_sales = Sales.median().median().round(2)\n",
    "print(f\"Median sales range / 50th percentile: {median_sales}\")"
   ]
  },
  {
   "cell_type": "markdown",
   "id": "cd0667c6-5ac2-4d2f-b27f-83bc9b53d16e",
   "metadata": {},
   "source": [
    "#### Q1(Median of the lower quarter of the data/ 25th percentile of the data)"
   ]
  },
  {
   "cell_type": "code",
   "execution_count": 93,
   "id": "e5060091-aed3-4f05-80e7-8ddd79a9de68",
   "metadata": {},
   "outputs": [
    {
     "name": "stdout",
     "output_type": "stream",
     "text": [
      "25th percentile of the whole sales column is:  17.28\n"
     ]
    }
   ],
   "source": [
    "Q1 = np.percentile(Sales, 25)\n",
    "print('25th percentile of the whole sales column is: ', Q1)"
   ]
  },
  {
   "cell_type": "markdown",
   "id": "8ded19a9-74eb-4218-9a46-753e10354353",
   "metadata": {},
   "source": [
    "#### Q3(Median of the upper quarter of the data/ 75th percentile of the data)"
   ]
  },
  {
   "cell_type": "code",
   "execution_count": 95,
   "id": "67cf3896-68ab-48ab-afb9-5e1e1a52c6cb",
   "metadata": {},
   "outputs": [
    {
     "name": "stdout",
     "output_type": "stream",
     "text": [
      "75th percentile of the whole Sales column is:  209.94\n"
     ]
    }
   ],
   "source": [
    "Q3 = np.percentile(Sales, 75)\n",
    "print('75th percentile of the whole Sales column is: ', Q3)"
   ]
  },
  {
   "cell_type": "markdown",
   "id": "b405a1d9-7368-4fa1-94e7-ef77f7f72c6a",
   "metadata": {},
   "source": [
    "#### Interquartile Range Value for the sales column"
   ]
  },
  {
   "cell_type": "code",
   "execution_count": 98,
   "id": "c7e9bcef-8a62-46e4-b1eb-d328dd0e9d7b",
   "metadata": {},
   "outputs": [
    {
     "name": "stdout",
     "output_type": "stream",
     "text": [
      "The interquartile range of the whole Sales column data is:  192.66\n"
     ]
    }
   ],
   "source": [
    "Interquartile_range = Q3 - Q1\n",
    "print('The interquartile range of the whole Sales column data is: ', Interquartile_range)"
   ]
  },
  {
   "cell_type": "markdown",
   "id": "2ecefb61-5a8d-4b0d-9aa4-a506c32da719",
   "metadata": {},
   "source": [
    "#### Total sum of all sales values in the Sales column"
   ]
  },
  {
   "cell_type": "code",
   "execution_count": 99,
   "id": "b74c9287-38e5-416a-b60d-79e1589fc70d",
   "metadata": {},
   "outputs": [
    {
     "name": "stdout",
     "output_type": "stream",
     "text": [
      "Sales    2297200.74\n",
      "dtype: float64\n"
     ]
    }
   ],
   "source": [
    "sum_of_total_sales = Sales.sum().round(2)\n",
    "print(sum_of_total_sales)"
   ]
  },
  {
   "cell_type": "code",
   "execution_count": null,
   "id": "d37d2c3f-98b6-4282-b76f-a3344fd0484f",
   "metadata": {},
   "outputs": [],
   "source": []
  }
 ],
 "metadata": {
  "kernelspec": {
   "display_name": "Python 3 (ipykernel)",
   "language": "python",
   "name": "python3"
  },
  "language_info": {
   "codemirror_mode": {
    "name": "ipython",
    "version": 3
   },
   "file_extension": ".py",
   "mimetype": "text/x-python",
   "name": "python",
   "nbconvert_exporter": "python",
   "pygments_lexer": "ipython3",
   "version": "3.9.7"
  }
 },
 "nbformat": 4,
 "nbformat_minor": 5
}
