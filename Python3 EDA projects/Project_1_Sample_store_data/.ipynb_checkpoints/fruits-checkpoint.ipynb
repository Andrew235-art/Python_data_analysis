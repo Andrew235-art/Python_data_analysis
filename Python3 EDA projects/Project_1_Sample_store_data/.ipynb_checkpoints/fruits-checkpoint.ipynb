{
 "cells": [
  {
   "cell_type": "code",
   "execution_count": 1,
   "id": "5014a3d8-fe9d-48b5-b040-689fdbb33b2e",
   "metadata": {},
   "outputs": [],
   "source": [
    "import pandas as pd\n",
    "import matplotlib.pyplot as plt"
   ]
  },
  {
   "cell_type": "code",
   "execution_count": 2,
   "id": "5b56f30f-54d3-4784-b9a2-162333142a3c",
   "metadata": {},
   "outputs": [
    {
     "name": "stdout",
     "output_type": "stream",
     "text": [
      "   Fruit_Type  Sugar_content\n",
      "0      apples              5\n",
      "1     oranges              4\n",
      "2  pineapples              6\n",
      "3      grapes             10\n",
      "4     peaches             25\n",
      "5    coconuts             65\n",
      "6     mangoes             17\n",
      "7       dates             45\n",
      "8     Avocado             24\n",
      "9    cucumber              2\n"
     ]
    }
   ],
   "source": [
    "fruit_list = ['apples', 'oranges', 'pineapples','grapes', 'peaches',\n",
    "              'coconuts', 'mangoes', 'dates', 'Avocado', 'cucumber']\n",
    "fruit_name = {\"Fruit_Type\": fruit_list,\n",
    "              \"Sugar_content\": [5, 4, 6, 10, 25, 65, 17, 45, 24, 2]}\n",
    "data = pd.DataFrame(fruit_name)\n",
    "print(data)"
   ]
  },
  {
   "cell_type": "code",
   "execution_count": 3,
   "id": "7d6eb7f2-563e-4150-be85-93244b558375",
   "metadata": {},
   "outputs": [
    {
     "name": "stdout",
     "output_type": "stream",
     "text": [
      "   Fruit_Type  Sugar_content  boxes\n",
      "0      apples              5     16\n",
      "1     oranges              4     13\n",
      "2  pineapples              6     20\n",
      "3      grapes             10     33\n",
      "4     peaches             25     83\n",
      "5    coconuts             65    216\n",
      "6     mangoes             17     56\n",
      "7       dates             45    150\n",
      "8     Avocado             24     80\n",
      "9    cucumber              2      6\n"
     ]
    }
   ],
   "source": [
    "boxes = []\n",
    "\n",
    "for i in range(len(data)):\n",
    "    boxes_value = int((data[\"Sugar_content\"][i]/15) * 50)\n",
    "    boxes.append(boxes_value)\n",
    "    \n",
    "data[\"boxes\"] = boxes\n",
    "\n",
    "print(data)\n"
   ]
  },
  {
   "cell_type": "code",
   "execution_count": 4,
   "id": "f737238a-f6b9-4a44-91a1-2d2533b112fc",
   "metadata": {},
   "outputs": [
    {
     "name": "stdout",
     "output_type": "stream",
     "text": [
      "   Fruit_Type  Sugar_content  boxes   price\n",
      "0      apples              5     16    2.56\n",
      "1     oranges              4     13    1.69\n",
      "2  pineapples              6     20    4.00\n",
      "3      grapes             10     33   10.89\n",
      "4     peaches             25     83   68.89\n",
      "5    coconuts             65    216  466.56\n",
      "6     mangoes             17     56   31.36\n",
      "7       dates             45    150  225.00\n",
      "8     Avocado             24     80   64.00\n",
      "9    cucumber              2      6    0.36\n"
     ]
    }
   ],
   "source": [
    "price_per_box = []\n",
    "\n",
    "for i in range(len(data)):\n",
    "    price_value = (data[\"boxes\"][i]/10)**2\n",
    "    price_per_box.append(price_value)\n",
    "    \n",
    "data[\"price\"] = price_per_box\n",
    "print(data)"
   ]
  },
  {
   "cell_type": "code",
   "execution_count": 5,
   "id": "04d0eb83-86b6-4f28-9dfe-c3a65f338fc3",
   "metadata": {},
   "outputs": [
    {
     "name": "stdout",
     "output_type": "stream",
     "text": [
      "   Fruit_Type  Sugar_content  boxes   price  total_cost\n",
      "0      apples              5     16    2.56       40.96\n",
      "1     oranges              4     13    1.69       21.97\n",
      "2  pineapples              6     20    4.00       80.00\n",
      "3      grapes             10     33   10.89      359.37\n",
      "4     peaches             25     83   68.89     5717.87\n",
      "5    coconuts             65    216  466.56   100776.96\n",
      "6     mangoes             17     56   31.36     1756.16\n",
      "7       dates             45    150  225.00    33750.00\n",
      "8     Avocado             24     80   64.00     5120.00\n",
      "9    cucumber              2      6    0.36        2.16\n"
     ]
    }
   ],
   "source": [
    "total_cost = []\n",
    "\n",
    "for i in range(len(data)):\n",
    "    total_cost_value = data[\"price\"][i] * data[\"boxes\"][i]\n",
    "    total_cost.append(total_cost_value)\n",
    "    \n",
    "data[\"total_cost\"] = total_cost\n",
    "\n",
    "print(data)"
   ]
  },
  {
   "cell_type": "code",
   "execution_count": 6,
   "id": "50d06c44-33c0-4eb7-92b6-259768297d8b",
   "metadata": {},
   "outputs": [
    {
     "name": "stdout",
     "output_type": "stream",
     "text": [
      "   Fruit_Type  Sugar_content  boxes   price  total_cost\n",
      "5    coconuts             65    216  466.56   100776.96\n",
      "7       dates             45    150  225.00    33750.00\n",
      "4     peaches             25     83   68.89     5717.87\n",
      "8     Avocado             24     80   64.00     5120.00\n",
      "6     mangoes             17     56   31.36     1756.16\n",
      "3      grapes             10     33   10.89      359.37\n",
      "2  pineapples              6     20    4.00       80.00\n",
      "0      apples              5     16    2.56       40.96\n",
      "1     oranges              4     13    1.69       21.97\n",
      "9    cucumber              2      6    0.36        2.16\n"
     ]
    }
   ],
   "source": [
    "sorted_columns = data.sort_values(by=\"price\",\n",
    "                                ascending=False)\n",
    "print(sorted_columns)"
   ]
  },
  {
   "cell_type": "code",
   "execution_count": 7,
   "id": "0be33aa8-3e54-497b-9b9c-7ce876a32049",
   "metadata": {},
   "outputs": [
    {
     "name": "stdout",
     "output_type": "stream",
     "text": [
      "Lowest pice registered was:  USD 0.36\n"
     ]
    }
   ],
   "source": [
    "minimum_price = data[\"price\"].min()\n",
    "print(\"Lowest pice registered was: \",\"USD\",minimum_price)"
   ]
  },
  {
   "cell_type": "code",
   "execution_count": 8,
   "id": "d4b85c9e-f750-4812-8138-ac6ee9225c35",
   "metadata": {},
   "outputs": [
    {
     "name": "stdout",
     "output_type": "stream",
     "text": [
      "Highest price registered was:  USD 466.56\n"
     ]
    }
   ],
   "source": [
    "maximum_price = round(data[\"price\"].max(), 2)\n",
    "print(\"Highest price registered was: \",\"USD\", maximum_price)"
   ]
  },
  {
   "cell_type": "code",
   "execution_count": 9,
   "id": "560c2312-d8a3-41c9-8a7e-d1342d3ebed4",
   "metadata": {},
   "outputs": [
    {
     "name": "stdout",
     "output_type": "stream",
     "text": [
      "The average price of all fruits was:  USD 87.53\n"
     ]
    }
   ],
   "source": [
    "Average_price = round(data[\"price\"].mean(), 2)\n",
    "print(\"The average price of all fruits was: \",\"USD\",Average_price)"
   ]
  },
  {
   "cell_type": "code",
   "execution_count": 10,
   "id": "bb2d4964-1f9e-457e-b106-a21772a025a3",
   "metadata": {},
   "outputs": [
    {
     "name": "stdout",
     "output_type": "stream",
     "text": [
      "Total amount of money that was spend on all fruits was  USD 147625.45\n"
     ]
    }
   ],
   "source": [
    "grand_total_cost = round(data[\"total_cost\"].sum(), 2)\n",
    "print(\"Total amount of money that was spend on all fruits was \",\"USD\",grand_total_cost)"
   ]
  },
  {
   "cell_type": "code",
   "execution_count": 17,
   "id": "5a4f07d0-5bc6-4e35-868d-80803122d549",
   "metadata": {},
   "outputs": [
    {
     "data": {
      "image/png": "[encoded data removed]",
      "text/plain": [
       "<Figure size 432x288 with 1 Axes>"
      ]
     },
     "metadata": {
      "needs_background": "light"
     },
     "output_type": "display_data"
    }
   ],
   "source": [
    "x = data[\"Fruit_Type\"]\n",
    "\n",
    "y = data[\"boxes\"]\n",
    "\n",
    "plt.barh(x, y)\n",
    "\n",
    "plt.title(\"Fruit against quantity\")\n",
    "plt.xlabel(\"Number of Boxes\")\n",
    "plt.ylabel(\"Fruits\")\n",
    "plt.show()"
   ]
  },
  {
   "cell_type": "code",
   "execution_count": null,
   "id": "5d1cf505-2f49-47bb-8ab0-53157a21d8f9",
   "metadata": {},
   "outputs": [],
   "source": [
    "x = data[\"Fruit_Type\"]\n",
    "y = data[\"total_cost\"].sort_values()\n",
    "\n",
    "plt.barh(x, y)\n",
    "plt.title(\"Fruit against individual total cost of each fruit\")\n",
    "plt.xlabel(\"Fruits\")\n",
    "plt.ylabel(\"total cost\")\n",
    "plt.show()"
   ]
  }
 ],
 "metadata": {
  "kernelspec": {
   "display_name": "Python 3 (ipykernel)",
   "language": "python",
   "name": "python3"
  },
  "language_info": {
   "codemirror_mode": {
    "name": "ipython",
    "version": 3
   },
   "file_extension": ".py",
   "mimetype": "text/x-python",
   "name": "python",
   "nbconvert_exporter": "python",
   "pygments_lexer": "ipython3",
   "version": "3.9.7"
  }
 },
 "nbformat": 4,
 "nbformat_minor": 5
}
