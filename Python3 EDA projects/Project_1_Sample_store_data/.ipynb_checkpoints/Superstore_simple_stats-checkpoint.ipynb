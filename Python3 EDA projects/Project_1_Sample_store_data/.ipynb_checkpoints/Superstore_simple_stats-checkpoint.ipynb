{
 "cells": [
  {
   "cell_type": "markdown",
   "id": "7b953626-3c85-4a0f-9017-5225cd09e64c",
   "metadata": {},
   "source": [
    "## Statistical analysis on the superstore dataset"
   ]
  },
  {
   "cell_type": "code",
   "execution_count": 1,
   "id": "d6f6769a-ccc3-43cd-9bb9-11b28f788007",
   "metadata": {},
   "outputs": [],
   "source": [
    "# Importing the required modules for the project.\n",
    "\n",
    "import pandas as pd        # To create and manipulate pandas DataFrames \n",
    "import numpy as np         # for further statistical analysis of DataFrames\n",
    "import xlrd                # for reading excel workbooks/worksheets."
   ]
  },
  {
   "cell_type": "code",
   "execution_count": 2,
   "id": "f4ceab74-803f-457c-bb59-5619f900e14e",
   "metadata": {},
   "outputs": [],
   "source": [
    "# Reading the excel data into the df variable.\n",
    "\n",
    "df = pd.read_excel('Superstore.xls')"
   ]
  },
  {
   "cell_type": "code",
   "execution_count": 4,
   "id": "f0b433ed-5038-4848-b55c-7528afca789e",
   "metadata": {},
   "outputs": [
    {
     "data": {
      "text/html": [
       "<div>\n",
       "<style scoped>\n",
       "    .dataframe tbody tr th:only-of-type {\n",
       "        vertical-align: middle;\n",
       "    }\n",
       "\n",
       "    .dataframe tbody tr th {\n",
       "        vertical-align: top;\n",
       "    }\n",
       "\n",
       "    .dataframe thead th {\n",
       "        text-align: right;\n",
       "    }\n",
       "</style>\n",
       "<table border=\"1\" class=\"dataframe\">\n",
       "  <thead>\n",
       "    <tr style=\"text-align: right;\">\n",
       "      <th></th>\n",
       "      <th>Row ID</th>\n",
       "      <th>Order ID</th>\n",
       "      <th>Order Date</th>\n",
       "      <th>Ship Date</th>\n",
       "      <th>Ship Mode</th>\n",
       "      <th>Customer ID</th>\n",
       "      <th>Customer Name</th>\n",
       "      <th>Segment</th>\n",
       "      <th>Country/Region</th>\n",
       "      <th>City</th>\n",
       "      <th>...</th>\n",
       "      <th>Postal Code</th>\n",
       "      <th>Region</th>\n",
       "      <th>Product ID</th>\n",
       "      <th>Category</th>\n",
       "      <th>Sub-Category</th>\n",
       "      <th>Product Name</th>\n",
       "      <th>Sales</th>\n",
       "      <th>Quantity</th>\n",
       "      <th>Discount</th>\n",
       "      <th>Profit</th>\n",
       "    </tr>\n",
       "  </thead>\n",
       "  <tbody>\n",
       "    <tr>\n",
       "      <th>0</th>\n",
       "      <td>1</td>\n",
       "      <td>CA-2020-152156</td>\n",
       "      <td>2020-11-08</td>\n",
       "      <td>2020-11-11</td>\n",
       "      <td>Second Class</td>\n",
       "      <td>CG-12520</td>\n",
       "      <td>Claire Gute</td>\n",
       "      <td>Consumer</td>\n",
       "      <td>United States</td>\n",
       "      <td>Henderson</td>\n",
       "      <td>...</td>\n",
       "      <td>42420.0</td>\n",
       "      <td>South</td>\n",
       "      <td>FUR-BO-10001798</td>\n",
       "      <td>Furniture</td>\n",
       "      <td>Bookcases</td>\n",
       "      <td>Bush Somerset Collection Bookcase</td>\n",
       "      <td>261.9600</td>\n",
       "      <td>2</td>\n",
       "      <td>0.00</td>\n",
       "      <td>41.9136</td>\n",
       "    </tr>\n",
       "    <tr>\n",
       "      <th>1</th>\n",
       "      <td>2</td>\n",
       "      <td>CA-2020-152156</td>\n",
       "      <td>2020-11-08</td>\n",
       "      <td>2020-11-11</td>\n",
       "      <td>Second Class</td>\n",
       "      <td>CG-12520</td>\n",
       "      <td>Claire Gute</td>\n",
       "      <td>Consumer</td>\n",
       "      <td>United States</td>\n",
       "      <td>Henderson</td>\n",
       "      <td>...</td>\n",
       "      <td>42420.0</td>\n",
       "      <td>South</td>\n",
       "      <td>FUR-CH-10000454</td>\n",
       "      <td>Furniture</td>\n",
       "      <td>Chairs</td>\n",
       "      <td>Hon Deluxe Fabric Upholstered Stacking Chairs,...</td>\n",
       "      <td>731.9400</td>\n",
       "      <td>3</td>\n",
       "      <td>0.00</td>\n",
       "      <td>219.5820</td>\n",
       "    </tr>\n",
       "    <tr>\n",
       "      <th>2</th>\n",
       "      <td>3</td>\n",
       "      <td>CA-2020-138688</td>\n",
       "      <td>2020-06-12</td>\n",
       "      <td>2020-06-16</td>\n",
       "      <td>Second Class</td>\n",
       "      <td>DV-13045</td>\n",
       "      <td>Darrin Van Huff</td>\n",
       "      <td>Corporate</td>\n",
       "      <td>United States</td>\n",
       "      <td>Los Angeles</td>\n",
       "      <td>...</td>\n",
       "      <td>90036.0</td>\n",
       "      <td>West</td>\n",
       "      <td>OFF-LA-10000240</td>\n",
       "      <td>Office Supplies</td>\n",
       "      <td>Labels</td>\n",
       "      <td>Self-Adhesive Address Labels for Typewriters b...</td>\n",
       "      <td>14.6200</td>\n",
       "      <td>2</td>\n",
       "      <td>0.00</td>\n",
       "      <td>6.8714</td>\n",
       "    </tr>\n",
       "    <tr>\n",
       "      <th>3</th>\n",
       "      <td>4</td>\n",
       "      <td>US-2019-108966</td>\n",
       "      <td>2019-10-11</td>\n",
       "      <td>2019-10-18</td>\n",
       "      <td>Standard Class</td>\n",
       "      <td>SO-20335</td>\n",
       "      <td>Sean O'Donnell</td>\n",
       "      <td>Consumer</td>\n",
       "      <td>United States</td>\n",
       "      <td>Fort Lauderdale</td>\n",
       "      <td>...</td>\n",
       "      <td>33311.0</td>\n",
       "      <td>South</td>\n",
       "      <td>FUR-TA-10000577</td>\n",
       "      <td>Furniture</td>\n",
       "      <td>Tables</td>\n",
       "      <td>Bretford CR4500 Series Slim Rectangular Table</td>\n",
       "      <td>957.5775</td>\n",
       "      <td>5</td>\n",
       "      <td>0.45</td>\n",
       "      <td>-383.0310</td>\n",
       "    </tr>\n",
       "    <tr>\n",
       "      <th>4</th>\n",
       "      <td>5</td>\n",
       "      <td>US-2019-108966</td>\n",
       "      <td>2019-10-11</td>\n",
       "      <td>2019-10-18</td>\n",
       "      <td>Standard Class</td>\n",
       "      <td>SO-20335</td>\n",
       "      <td>Sean O'Donnell</td>\n",
       "      <td>Consumer</td>\n",
       "      <td>United States</td>\n",
       "      <td>Fort Lauderdale</td>\n",
       "      <td>...</td>\n",
       "      <td>33311.0</td>\n",
       "      <td>South</td>\n",
       "      <td>OFF-ST-10000760</td>\n",
       "      <td>Office Supplies</td>\n",
       "      <td>Storage</td>\n",
       "      <td>Eldon Fold 'N Roll Cart System</td>\n",
       "      <td>22.3680</td>\n",
       "      <td>2</td>\n",
       "      <td>0.20</td>\n",
       "      <td>2.5164</td>\n",
       "    </tr>\n",
       "  </tbody>\n",
       "</table>\n",
       "<p>5 rows × 21 columns</p>\n",
       "</div>"
      ],
      "text/plain": [
       "   Row ID        Order ID Order Date  Ship Date       Ship Mode Customer ID  \\\n",
       "0       1  CA-2020-152156 2020-11-08 2020-11-11    Second Class    CG-12520   \n",
       "1       2  CA-2020-152156 2020-11-08 2020-11-11    Second Class    CG-12520   \n",
       "2       3  CA-2020-138688 2020-06-12 2020-06-16    Second Class    DV-13045   \n",
       "3       4  US-2019-108966 2019-10-11 2019-10-18  Standard Class    SO-20335   \n",
       "4       5  US-2019-108966 2019-10-11 2019-10-18  Standard Class    SO-20335   \n",
       "\n",
       "     Customer Name    Segment Country/Region             City  ...  \\\n",
       "0      Claire Gute   Consumer  United States        Henderson  ...   \n",
       "1      Claire Gute   Consumer  United States        Henderson  ...   \n",
       "2  Darrin Van Huff  Corporate  United States      Los Angeles  ...   \n",
       "3   Sean O'Donnell   Consumer  United States  Fort Lauderdale  ...   \n",
       "4   Sean O'Donnell   Consumer  United States  Fort Lauderdale  ...   \n",
       "\n",
       "  Postal Code  Region       Product ID         Category Sub-Category  \\\n",
       "0     42420.0   South  FUR-BO-10001798        Furniture    Bookcases   \n",
       "1     42420.0   South  FUR-CH-10000454        Furniture       Chairs   \n",
       "2     90036.0    West  OFF-LA-10000240  Office Supplies       Labels   \n",
       "3     33311.0   South  FUR-TA-10000577        Furniture       Tables   \n",
       "4     33311.0   South  OFF-ST-10000760  Office Supplies      Storage   \n",
       "\n",
       "                                        Product Name     Sales  Quantity  \\\n",
       "0                  Bush Somerset Collection Bookcase  261.9600         2   \n",
       "1  Hon Deluxe Fabric Upholstered Stacking Chairs,...  731.9400         3   \n",
       "2  Self-Adhesive Address Labels for Typewriters b...   14.6200         2   \n",
       "3      Bretford CR4500 Series Slim Rectangular Table  957.5775         5   \n",
       "4                     Eldon Fold 'N Roll Cart System   22.3680         2   \n",
       "\n",
       "   Discount    Profit  \n",
       "0      0.00   41.9136  \n",
       "1      0.00  219.5820  \n",
       "2      0.00    6.8714  \n",
       "3      0.45 -383.0310  \n",
       "4      0.20    2.5164  \n",
       "\n",
       "[5 rows x 21 columns]"
      ]
     },
     "execution_count": 4,
     "metadata": {},
     "output_type": "execute_result"
    }
   ],
   "source": [
    "# Taking a closer look at the data through the first 5 records of the whole dataset using the head() function.\n",
    "\n",
    "df.head(5)"
   ]
  },
  {
   "cell_type": "code",
   "execution_count": 5,
   "id": "cc2c2278-7d77-4d6f-9e85-ef4267c05abb",
   "metadata": {},
   "outputs": [
    {
     "name": "stdout",
     "output_type": "stream",
     "text": [
      "0       False\n",
      "1       False\n",
      "2       False\n",
      "3       False\n",
      "4       False\n",
      "        ...  \n",
      "9989    False\n",
      "9990    False\n",
      "9991    False\n",
      "9992    False\n",
      "9993    False\n",
      "Length: 9994, dtype: bool\n"
     ]
    }
   ],
   "source": [
    "# Checking for any duplicate values\n",
    "\n",
    "print(df.duplicated())"
   ]
  },
  {
   "cell_type": "code",
   "execution_count": 6,
   "id": "4f2fc82a-afed-45ae-8f1a-dcb0e4fa7911",
   "metadata": {},
   "outputs": [
    {
     "data": {
      "text/plain": [
       "0"
      ]
     },
     "execution_count": 6,
     "metadata": {},
     "output_type": "execute_result"
    }
   ],
   "source": [
    "# Counting and adding all duplicate values inside the datatset\n",
    "\n",
    "df.duplicated().sum()"
   ]
  },
  {
   "cell_type": "code",
   "execution_count": 7,
   "id": "605bc6d6-aab5-4cc9-b19d-57b9c9130c8d",
   "metadata": {},
   "outputs": [],
   "source": [
    "# Dropping all duplicate values from the dataset,from the main dataset as well so as to clean it a little bit.\n",
    "\n",
    "df.drop_duplicates(inplace = True)"
   ]
  },
  {
   "cell_type": "code",
   "execution_count": 8,
   "id": "464ebe47-70c2-4193-980b-14447bf324d4",
   "metadata": {},
   "outputs": [
    {
     "data": {
      "text/plain": [
       "Index(['Row ID', 'Order ID', 'Order Date', 'Ship Date', 'Ship Mode',\n",
       "       'Customer ID', 'Customer Name', 'Segment', 'Country/Region', 'City',\n",
       "       'State', 'Postal Code', 'Region', 'Product ID', 'Category',\n",
       "       'Sub-Category', 'Product Name', 'Sales', 'Quantity', 'Discount',\n",
       "       'Profit'],\n",
       "      dtype='object')"
      ]
     },
     "execution_count": 8,
     "metadata": {},
     "output_type": "execute_result"
    }
   ],
   "source": [
    "# Listing and taking a closer look at all the columns inside the dataset. \n",
    "\n",
    "df.columns"
   ]
  },
  {
   "cell_type": "code",
   "execution_count": 9,
   "id": "a3ab0083-cbc0-49ad-a44d-b0ce30b44149",
   "metadata": {},
   "outputs": [
    {
     "name": "stdout",
     "output_type": "stream",
     "text": [
      "        Product ID  Quantity     Sales    Profit\n",
      "0  FUR-BO-10001798         2  261.9600   41.9136\n",
      "1  FUR-CH-10000454         3  731.9400  219.5820\n",
      "2  OFF-LA-10000240         2   14.6200    6.8714\n",
      "3  FUR-TA-10000577         5  957.5775 -383.0310\n",
      "4  OFF-ST-10000760         2   22.3680    2.5164\n"
     ]
    }
   ],
   "source": [
    "# selecting a number of columns from the dataset, and printing the first 5 values from each using the head() function.\n",
    "\n",
    "\n",
    "print(df[['Product ID', 'Quantity', 'Sales', 'Profit']].head())"
   ]
  },
  {
   "cell_type": "code",
   "execution_count": 10,
   "id": "057ec867-5965-4425-99d7-781814978f40",
   "metadata": {},
   "outputs": [
    {
     "name": "stdout",
     "output_type": "stream",
     "text": [
      "Quantity    37873\n",
      "dtype: int64\n"
     ]
    }
   ],
   "source": [
    "# Finding the overall sum of the \"Quantinty column\" in the dataset \n",
    "\n",
    "print(df[['Quantity']].sum())"
   ]
  },
  {
   "cell_type": "code",
   "execution_count": 12,
   "id": "1c844bc5-7b6f-4634-b591-2e7d79d706e5",
   "metadata": {},
   "outputs": [
    {
     "name": "stdout",
     "output_type": "stream",
     "text": [
      "2297200\n"
     ]
    }
   ],
   "source": [
    "# Sample stats on the Sales column values.\n",
    "# Converting the \"Sales\" column data from float to integer using the int() function,\n",
    "# finding the sum of all the sales made in the dataset using the \"Sales\" values provided.\n",
    "\n",
    "print(int(df[['Sales']].sum()))"
   ]
  },
  {
   "cell_type": "markdown",
   "id": "42935693-705f-4673-86a2-51b0a9416039",
   "metadata": {},
   "source": [
    "### Working with the dataset to bring out the 5-number summary i.e Q1(quartile of the lower quarter/left hand side of the dataset),Q2(median of the whole dataset), Q3(quartile of the higher quarter/right hand side of the data), Mean value(average value of the whole dataset), Min(lowest value of the dataset), Max(Highest value of the dataset)"
   ]
  },
  {
   "cell_type": "markdown",
   "id": "d2090af6-cb64-4b8b-9ff3-111e771b272b",
   "metadata": {},
   "source": [
    "### Chose to analyse the Quantity, Sales and Profits columns."
   ]
  },
  {
   "cell_type": "markdown",
   "id": "b94eed4c-d7da-4984-a3ca-f886e78cd7d8",
   "metadata": {},
   "source": [
    "#### Sales column"
   ]
  },
  {
   "cell_type": "markdown",
   "id": "86a8bd9f-2185-4bed-8ce9-8e3b5c4dcde4",
   "metadata": {},
   "source": [
    "#### Sorting the Sales Column(values) in ascending order"
   ]
  },
  {
   "cell_type": "code",
   "execution_count": 129,
   "id": "b3f535a4-bc01-4d52-bf8a-c60ad23d6949",
   "metadata": {},
   "outputs": [],
   "source": [
    "## Sales = str(df[['Sales']])\n",
    "Sales = df[[\"Sales\"]].sort_values(by = \"Sales\", ascending = True).round(2)"
   ]
  },
  {
   "cell_type": "code",
   "execution_count": 124,
   "id": "35dd5486-b027-4c1f-96c8-856a39edb96e",
   "metadata": {},
   "outputs": [
    {
     "name": "stdout",
     "output_type": "stream",
     "text": [
      "      Sales\n",
      "4101   0.44\n",
      "9292   0.56\n",
      "8658   0.84\n",
      "4711   0.85\n",
      "2106   0.88\n",
      "7548   0.90\n",
      "8033   0.98\n",
      "2761   0.99\n",
      "8024   1.04\n",
      "1332   1.08\n",
      "4933   1.08\n",
      "976    1.08\n",
      "987    1.11\n",
      "2605   1.17\n",
      "4874   1.19\n"
     ]
    }
   ],
   "source": [
    "print(Sales.head(15).round(2))"
   ]
  },
  {
   "cell_type": "code",
   "execution_count": 131,
   "id": "80cfcf49-534e-404d-aa7c-7a8f00cfca45",
   "metadata": {},
   "outputs": [
    {
     "name": "stdout",
     "output_type": "stream",
     "text": [
      "         Sales\n",
      "6425   8399.98\n",
      "8488   8749.95\n",
      "4277   9099.93\n",
      "4098   9449.95\n",
      "9039   9892.74\n",
      "4190  10499.97\n",
      "2623  11199.97\n",
      "8153  13999.96\n",
      "6826  17499.95\n",
      "2697  22638.48\n"
     ]
    }
   ],
   "source": [
    "print(Sales.tail(10))"
   ]
  },
  {
   "cell_type": "markdown",
   "id": "e0e14b2e-d12d-4153-a953-33522ec2e7dd",
   "metadata": {},
   "source": [
    "#### Mean Value of the Sales column data"
   ]
  },
  {
   "cell_type": "code",
   "execution_count": 133,
   "id": "9a18cfd9-c284-4b73-a188-b8bc582fe72b",
   "metadata": {},
   "outputs": [
    {
     "name": "stdout",
     "output_type": "stream",
     "text": [
      "Sales    229.86\n",
      "dtype: float64\n"
     ]
    }
   ],
   "source": [
    "average_sales = Sales.mean().round(2)\n",
    "print(average_sales)"
   ]
  },
  {
   "cell_type": "markdown",
   "id": "719ea342-1d4f-40d4-afda-d78dc3b9e046",
   "metadata": {},
   "source": [
    "#### Highest Value in the Sales column"
   ]
  },
  {
   "cell_type": "code",
   "execution_count": 134,
   "id": "27f38da7-c679-4506-a1fe-ce6154575c14",
   "metadata": {},
   "outputs": [
    {
     "name": "stdout",
     "output_type": "stream",
     "text": [
      "Sales    22638.48\n",
      "dtype: float64\n"
     ]
    }
   ],
   "source": [
    "maximum_sales = Sales.max().round(2)\n",
    "print(maximum_sales)"
   ]
  },
  {
   "cell_type": "markdown",
   "id": "91158151-943a-4081-8a66-36cfa70f180d",
   "metadata": {
    "tags": []
   },
   "source": [
    "#### Lowest Value in the Sales column"
   ]
  },
  {
   "cell_type": "code",
   "execution_count": 135,
   "id": "ec2012f0-0e72-47ef-a82d-d10ba82e70f2",
   "metadata": {},
   "outputs": [
    {
     "name": "stdout",
     "output_type": "stream",
     "text": [
      "Sales    0.44\n",
      "dtype: float64\n"
     ]
    }
   ],
   "source": [
    "minimum_sales = Sales.min().round(2)\n",
    "print(minimum_sales)"
   ]
  },
  {
   "cell_type": "markdown",
   "id": "12c0f8d2-c6b4-419c-b28a-b8104332f161",
   "metadata": {},
   "source": [
    "#### Range of values between the highest and lowest values in the Sales column data"
   ]
  },
  {
   "cell_type": "code",
   "execution_count": 147,
   "id": "970110a6-e771-4025-8045-2acf4eff2e91",
   "metadata": {},
   "outputs": [
    {
     "name": "stdout",
     "output_type": "stream",
     "text": [
      "The range between maximum_sales and minimum_sales is  Sales    22638.04\n",
      "dtype: float64\n"
     ]
    }
   ],
   "source": [
    "Range = maximum_sales - minimum_sales \n",
    "print('The range between maximum_sales and minimum_sales is ', Range)"
   ]
  },
  {
   "cell_type": "markdown",
   "id": "d29846a6-a7ce-4e04-a6bd-206ca6bc5bea",
   "metadata": {},
   "source": [
    "#### Q2(Median of the whole sales column)"
   ]
  },
  {
   "cell_type": "code",
   "execution_count": 136,
   "id": "a182c04c-961c-4c6c-8f41-c4391017b9ed",
   "metadata": {},
   "outputs": [
    {
     "name": "stdout",
     "output_type": "stream",
     "text": [
      "Sales    54.49\n",
      "dtype: float64\n"
     ]
    }
   ],
   "source": [
    "median_sales = Sales.median()\n",
    "print(median_sales)"
   ]
  },
  {
   "cell_type": "markdown",
   "id": "cd0667c6-5ac2-4d2f-b27f-83bc9b53d16e",
   "metadata": {},
   "source": [
    "#### Q1(Median of the lower quarter of the data/ 25th percentile of the data)"
   ]
  },
  {
   "cell_type": "code",
   "execution_count": 143,
   "id": "e5060091-aed3-4f05-80e7-8ddd79a9de68",
   "metadata": {},
   "outputs": [
    {
     "name": "stdout",
     "output_type": "stream",
     "text": [
      "The Q1 value of the Sales column is  17.28\n"
     ]
    }
   ],
   "source": [
    "Q1 = np.percentile(Sales, 25)\n",
    "print('The Q1 value of the Sales column is ', Q1)"
   ]
  },
  {
   "cell_type": "markdown",
   "id": "8ded19a9-74eb-4218-9a46-753e10354353",
   "metadata": {},
   "source": [
    "#### Q3(Median of the upper quarter of the data/ 75th percentile of the data)"
   ]
  },
  {
   "cell_type": "code",
   "execution_count": 144,
   "id": "67cf3896-68ab-48ab-afb9-5e1e1a52c6cb",
   "metadata": {},
   "outputs": [
    {
     "name": "stdout",
     "output_type": "stream",
     "text": [
      "The Q3 value of the Sales column is  209.94\n"
     ]
    }
   ],
   "source": [
    "Q3 = np.percentile(Sales, 75)\n",
    "print('The Q3 value of the Sales column is ', Q3)"
   ]
  },
  {
   "cell_type": "markdown",
   "id": "b405a1d9-7368-4fa1-94e7-ef77f7f72c6a",
   "metadata": {},
   "source": [
    "#### Interquartile Range Value for the sales column"
   ]
  },
  {
   "cell_type": "code",
   "execution_count": 145,
   "id": "c7e9bcef-8a62-46e4-b1eb-d328dd0e9d7b",
   "metadata": {},
   "outputs": [
    {
     "name": "stdout",
     "output_type": "stream",
     "text": [
      "The interquartile range of the Sales column data is  192.66\n"
     ]
    }
   ],
   "source": [
    "Interquartile_range = Q3 - Q1\n",
    "print('The interquartile range of the Sales column data is ', Interquartile_range)"
   ]
  },
  {
   "cell_type": "markdown",
   "id": "2ecefb61-5a8d-4b0d-9aa4-a506c32da719",
   "metadata": {},
   "source": [
    "#### Total sum of all sales values in the Sales column"
   ]
  },
  {
   "cell_type": "code",
   "execution_count": 149,
   "id": "b74c9287-38e5-416a-b60d-79e1589fc70d",
   "metadata": {},
   "outputs": [
    {
     "name": "stdout",
     "output_type": "stream",
     "text": [
      "Sales    2297200.74\n",
      "dtype: float64\n"
     ]
    }
   ],
   "source": [
    "sum_of_total_sales = Sales.sum().round(2)\n",
    "print(sum_of_total_sales)"
   ]
  },
  {
   "cell_type": "code",
   "execution_count": null,
   "id": "d37d2c3f-98b6-4282-b76f-a3344fd0484f",
   "metadata": {},
   "outputs": [],
   "source": []
  }
 ],
 "metadata": {
  "kernelspec": {
   "display_name": "Python 3 (ipykernel)",
   "language": "python",
   "name": "python3"
  },
  "language_info": {
   "codemirror_mode": {
    "name": "ipython",
    "version": 3
   },
   "file_extension": ".py",
   "mimetype": "text/x-python",
   "name": "python",
   "nbconvert_exporter": "python",
   "pygments_lexer": "ipython3",
   "version": "3.9.7"
  }
 },
 "nbformat": 4,
 "nbformat_minor": 5
}
