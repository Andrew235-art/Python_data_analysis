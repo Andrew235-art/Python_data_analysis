{
 "cells": [
  {
   "cell_type": "markdown",
   "id": "7dc37f2f-e47f-4cab-8aa5-33fe227f1480",
   "metadata": {},
   "source": [
    "## > This project mainly showcases how amazing python lists and dictionaries are when it comes to Exploratory Data Analysis.\n",
    "\n",
    ">> It includes a simple dataset of a fuits store madeup from scratch.\n",
    ">> Python topics hinted on inside the project include,    \n",
    "0. **Introduction to pandas and the matplotlib.pyplot modules**\n",
    "1. **Lists and their simple manipulations**\n",
    "2. **Dictionaries**\n",
    "3. **Pandas DataFrames**\n",
    "4. **Selecting and indexing of data from pandas DataFrame**\n",
    "5. **Creating and assigning new Variables**\n",
    "6. **Creating new columhs inside a pandas DataFrame**\n",
    "7. **\"for loops\"**\n",
    "8. **Sorting of values inside a pandas DataFrame**\n",
    "9. **Simple data visualizations using python**\n",
    "10. **Simple statistical functions**"
   ]
  },
  {
   "cell_type": "code",
   "execution_count": 22,
   "id": "5014a3d8-fe9d-48b5-b040-689fdbb33b2e",
   "metadata": {},
   "outputs": [],
   "source": [
    "# Importing the important modules to be used in our project\n",
    "\n",
    "import pandas as pd\n",
    "import matplotlib.pyplot as plt"
   ]
  },
  {
   "cell_type": "code",
   "execution_count": 25,
   "id": "5b56f30f-54d3-4784-b9a2-162333142a3c",
   "metadata": {},
   "outputs": [
    {
     "name": "stdout",
     "output_type": "stream",
     "text": [
      "   Fruit_Type  Sugar_content\n",
      "0      apples              5\n",
      "1     oranges              4\n",
      "2  pineapples              6\n",
      "3      grapes             10\n",
      "4     peaches             25\n",
      "5    coconuts             65\n",
      "6     mangoes             17\n",
      "7       dates             45\n",
      "8     Avocado             24\n",
      "9    cucumber              2\n"
     ]
    }
   ],
   "source": [
    "# Creating the sample data Dictionary to work with.\n",
    "\n",
    "fruit_list = ['apples', 'oranges', 'pineapples','grapes', 'peaches',\n",
    "              'coconuts', 'mangoes', 'dates', 'Avocado', 'cucumber']\n",
    "fruit_name = {\"Fruit_Type\": fruit_list,\n",
    "              \"Sugar_content\": [5, 4, 6, 10, 25, 65, 17, 45, 24, 2]}\n",
    "\n",
    "# Converting the above Dictionary into a pandas DataFrame(new dataset format) for further manipulation.\n",
    "\n",
    "data = pd.DataFrame(fruit_name)\n",
    "print(data)"
   ]
  },
  {
   "cell_type": "code",
   "execution_count": 28,
   "id": "7d6eb7f2-563e-4150-be85-93244b558375",
   "metadata": {},
   "outputs": [
    {
     "name": "stdout",
     "output_type": "stream",
     "text": [
      "   Fruit_Type  Sugar_content  boxes\n",
      "0      apples              5     16\n",
      "1     oranges              4     13\n",
      "2  pineapples              6     20\n",
      "3      grapes             10     33\n",
      "4     peaches             25     83\n",
      "5    coconuts             65    216\n",
      "6     mangoes             17     56\n",
      "7       dates             45    150\n",
      "8     Avocado             24     80\n",
      "9    cucumber              2      6\n"
     ]
    }
   ],
   "source": [
    "# The steps below help us to programatically create a new column called \"boxes\" to hold the number of boxes for each fruit type.\n",
    " # first we craete an empty list and assign it a variable name i.e \"boxes\"\n",
    " # Use a for loop to iterate through each item in the data, point to the \"Sugar_content\" column of the dataset, divide them by 15 then multiply the result by 50 to get the final result as \"boxes_value\" on each fruit type.\n",
    " # Append the resultant \"boxes_value\" on each fruit type to the empty \"boxes\" list. \n",
    " # Finally add the created boxes list as a new \"boxes\" column into the data and print the data out to check if the column was successfully added and the data updated as expected.\n",
    "\n",
    "boxes = []\n",
    "\n",
    "for i in range(len(data)):\n",
    "    boxes_value = int((data[\"Sugar_content\"][i]/15) * 50)\n",
    "    boxes.append(boxes_value)\n",
    "    \n",
    "data[\"boxes\"] = boxes\n",
    "\n",
    "print(data)\n"
   ]
  },
  {
   "cell_type": "code",
   "execution_count": 29,
   "id": "f737238a-f6b9-4a44-91a1-2d2533b112fc",
   "metadata": {},
   "outputs": [
    {
     "name": "stdout",
     "output_type": "stream",
     "text": [
      "   Fruit_Type  Sugar_content  boxes   price\n",
      "0      apples              5     16    2.56\n",
      "1     oranges              4     13    1.69\n",
      "2  pineapples              6     20    4.00\n",
      "3      grapes             10     33   10.89\n",
      "4     peaches             25     83   68.89\n",
      "5    coconuts             65    216  466.56\n",
      "6     mangoes             17     56   31.36\n",
      "7       dates             45    150  225.00\n",
      "8     Avocado             24     80   64.00\n",
      "9    cucumber              2      6    0.36\n"
     ]
    }
   ],
   "source": [
    "# The steps below help us to programatically create a new column called \"price_per_box\" to hold the price for each box on a given fruit type.\n",
    " # first we craete an empty list and assign it a variable name i.e \"price_per_box\"\n",
    " # Use a for loop to iterate through each item in the data, point to \"boxes\" column of the dataset, divide the boxes values by 10, then raise the result to the power of 2 to get the final result as \"price_value\" on each fruit type.\n",
    " # Append the resultant \"price_value\" on each fruit type to the empty \"price_per_box\" list. \n",
    " # Finally add the created price_per_box list as the new \"price\" column into the data and print the data out to check if the column was successfully added and the data updated as expected.\n",
    "\n",
    "\n",
    "price_per_box = []\n",
    "\n",
    "for i in range(len(data)):\n",
    "    price_value = (data[\"boxes\"][i]/10)**2\n",
    "    price_per_box.append(price_value)\n",
    "    \n",
    "data[\"price\"] = price_per_box\n",
    "print(data)"
   ]
  },
  {
   "cell_type": "code",
   "execution_count": 30,
   "id": "04d0eb83-86b6-4f28-9dfe-c3a65f338fc3",
   "metadata": {},
   "outputs": [
    {
     "name": "stdout",
     "output_type": "stream",
     "text": [
      "   Fruit_Type  Sugar_content  boxes   price  total_cost\n",
      "0      apples              5     16    2.56       40.96\n",
      "1     oranges              4     13    1.69       21.97\n",
      "2  pineapples              6     20    4.00       80.00\n",
      "3      grapes             10     33   10.89      359.37\n",
      "4     peaches             25     83   68.89     5717.87\n",
      "5    coconuts             65    216  466.56   100776.96\n",
      "6     mangoes             17     56   31.36     1756.16\n",
      "7       dates             45    150  225.00    33750.00\n",
      "8     Avocado             24     80   64.00     5120.00\n",
      "9    cucumber              2      6    0.36        2.16\n"
     ]
    }
   ],
   "source": [
    "# This involves the exact same steps taken inside the above immediate 2 cells so as to calculate and add a new column called \"total_cost\" to the data.\n",
    "\n",
    "\n",
    "total_cost = []\n",
    "\n",
    "for i in range(len(data)):\n",
    "    total_cost_value = data[\"price\"][i] * data[\"boxes\"][i]\n",
    "    total_cost.append(total_cost_value)\n",
    "    \n",
    "data[\"total_cost\"] = total_cost\n",
    "\n",
    "print(data)"
   ]
  },
  {
   "cell_type": "code",
   "execution_count": 36,
   "id": "50d06c44-33c0-4eb7-92b6-259768297d8b",
   "metadata": {},
   "outputs": [
    {
     "name": "stdout",
     "output_type": "stream",
     "text": [
      "   Fruit_Type  Sugar_content  boxes   price  total_cost\n",
      "5    coconuts             65    216  466.56   100776.96\n",
      "7       dates             45    150  225.00    33750.00\n",
      "4     peaches             25     83   68.89     5717.87\n",
      "8     Avocado             24     80   64.00     5120.00\n",
      "6     mangoes             17     56   31.36     1756.16\n",
      "3      grapes             10     33   10.89      359.37\n",
      "2  pineapples              6     20    4.00       80.00\n",
      "0      apples              5     16    2.56       40.96\n",
      "1     oranges              4     13    1.69       21.97\n",
      "9    cucumber              2      6    0.36        2.16\n"
     ]
    }
   ],
   "source": [
    "# Sorting the above data in descending order to see the most expensive Fruit type, by using the \"price\" column.\n",
    "\n",
    "\n",
    "sorted_columns = data.sort_values(by=\"price\",\n",
    "                                ascending=False)\n",
    "print(sorted_columns)"
   ]
  },
  {
   "cell_type": "code",
   "execution_count": 34,
   "id": "030b8d26-b594-4ec8-9dd3-41a341d147e3",
   "metadata": {},
   "outputs": [
    {
     "name": "stdout",
     "output_type": "stream",
     "text": [
      "None\n"
     ]
    }
   ],
   "source": [
    "# In python we can read and write different data formats i.e csv files, excel worksheets/workbooks, html, etc\n",
    "# Here I personally chose to save the above data with all the newly created columns as a csv file called \"fruits_data.csv\" as seen below.\n",
    "\n",
    "data_to_excel = data.to_csv('fruits_data.csv')\n",
    "print(data_to_csv)"
   ]
  },
  {
   "cell_type": "markdown",
   "id": "46f90ba8-b9ba-4823-8025-e705807b296f",
   "metadata": {},
   "source": [
    "## The cells below show the different quick and important statistics that can be performed on the derived data."
   ]
  },
  {
   "cell_type": "code",
   "execution_count": 43,
   "id": "0be33aa8-3e54-497b-9b9c-7ce876a32049",
   "metadata": {},
   "outputs": [
    {
     "name": "stdout",
     "output_type": "stream",
     "text": [
      "Lowest pice registered was:  USD 0.36\n"
     ]
    }
   ],
   "source": [
    "# Lowest price in the data above\n",
    "\n",
    "minimum_price = data[\"price\"].min()\n",
    "print(\"Lowest pice registered was: \",\"USD\",minimum_price)"
   ]
  },
  {
   "cell_type": "code",
   "execution_count": 44,
   "id": "d4b85c9e-f750-4812-8138-ac6ee9225c35",
   "metadata": {},
   "outputs": [
    {
     "name": "stdout",
     "output_type": "stream",
     "text": [
      "Highest price registered was:  USD 466.56\n"
     ]
    }
   ],
   "source": [
    "# Highest price in the data above\n",
    "\n",
    "maximum_price = round(data[\"price\"].max(), 2)\n",
    "print(\"Highest price registered was: \",\"USD\", maximum_price)"
   ]
  },
  {
   "cell_type": "code",
   "execution_count": 46,
   "id": "560c2312-d8a3-41c9-8a7e-d1342d3ebed4",
   "metadata": {},
   "outputs": [
    {
     "name": "stdout",
     "output_type": "stream",
     "text": [
      "The average price of all fruits was:  USD 87.53\n"
     ]
    }
   ],
   "source": [
    "# Average price in the data above\n",
    "\n",
    "Average_price = round(data[\"price\"].mean(), 2)\n",
    "print(\"The average price of all fruits was: \",\"USD\",Average_price)"
   ]
  },
  {
   "cell_type": "code",
   "execution_count": 48,
   "id": "bb2d4964-1f9e-457e-b106-a21772a025a3",
   "metadata": {},
   "outputs": [
    {
     "name": "stdout",
     "output_type": "stream",
     "text": [
      "Total amount of money that was spend on all fruits was  USD 147625.45\n"
     ]
    }
   ],
   "source": [
    "# Sum of all costs used on the fruits \n",
    "\n",
    "grand_total_cost = round(data[\"total_cost\"].sum(), 2)\n",
    "print(\"Total amount of money that was spend on all fruits was \",\"USD\",grand_total_cost)"
   ]
  },
  {
   "cell_type": "markdown",
   "id": "baf2c876-e3b3-4d08-9de8-c5f082bb563d",
   "metadata": {},
   "source": [
    "## The following cells show how to plot some of the key information using the \"matplotlib\" module\n",
    "### In this case, bar graph showing Fruits against quantity and Fruits againts total_cost repectively."
   ]
  },
  {
   "cell_type": "code",
   "execution_count": 41,
   "id": "5a4f07d0-5bc6-4e35-868d-80803122d549",
   "metadata": {},
   "outputs": [
    {
     "data": {
      "image/png": "[encoded data removed]",
      "text/plain": [
       "<Figure size 432x288 with 1 Axes>"
      ]
     },
     "metadata": {
      "needs_background": "light"
     },
     "output_type": "display_data"
    }
   ],
   "source": [
    "# data column to be plotted on the x-axis of the graph\n",
    "\n",
    "x = data[\"Fruit_Type\"]\n",
    "\n",
    "# data column to be plotted on the y-axis of the graph\n",
    "\n",
    "y = data[\"boxes\"]\n",
    "\n",
    "# Choosing the type of graph to be plot the above values on(in this case, \"it's a horizontal bar graph\")\n",
    "\n",
    "plt.barh(x, y)\n",
    "\n",
    "# Creating a main title for the graph\n",
    "plt.title(\"Fruits against boxes\")\n",
    "\n",
    "# labelling the X-axis\n",
    "plt.xlabel(\"Number of Boxes\")\n",
    "\n",
    "# Labelling the y-axis\n",
    "plt.ylabel(\"Fruits\")\n",
    "\n",
    "# Showing the final figure of the graph above using the inbuilt matplotlib show() function.\n",
    "\n",
    "plt.show()"
   ]
  },
  {
   "cell_type": "code",
   "execution_count": 49,
   "id": "5d1cf505-2f49-47bb-8ab0-53157a21d8f9",
   "metadata": {},
   "outputs": [
    {
     "data": {
      "image/png": "[encoded data removed]",
      "text/plain": [
       "<Figure size 432x288 with 1 Axes>"
      ]
     },
     "metadata": {
      "needs_background": "light"
     },
     "output_type": "display_data"
    }
   ],
   "source": [
    "# The steps below are the exact steps taken to plot the above horizontal bar graph.\n",
    "# The only slight difference is in the name of the columns to be plotted on each axis, and the sorting of all values on the y-axis in ascending order i.e smallest to largest value.\n",
    "\n",
    "\n",
    "x = data[\"Fruit_Type\"]\n",
    "y = data[\"total_cost\"].sort_values()\n",
    "\n",
    "plt.barh(x, y)\n",
    "plt.title(\"Fruits against total_cost\")\n",
    "plt.xlabel(\"Fruits\")\n",
    "plt.ylabel(\"total cost\")\n",
    "plt.show()"
   ]
  },
  {
   "cell_type": "code",
   "execution_count": null,
   "id": "be505403-09c2-469b-8450-03577cf0121f",
   "metadata": {},
   "outputs": [],
   "source": []
  }
 ],
 "metadata": {
  "kernelspec": {
   "display_name": "Python 3 (ipykernel)",
   "language": "python",
   "name": "python3"
  },
  "language_info": {
   "codemirror_mode": {
    "name": "ipython",
    "version": 3
   },
   "file_extension": ".py",
   "mimetype": "text/x-python",
   "name": "python",
   "nbconvert_exporter": "python",
   "pygments_lexer": "ipython3",
   "version": "3.9.7"
  }
 },
 "nbformat": 4,
 "nbformat_minor": 5
}
