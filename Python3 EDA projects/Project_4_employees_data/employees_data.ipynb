{
 "cells": [
  {
   "cell_type": "markdown",
   "id": "732aa58a-ad0b-46d9-9464-11446afc1545",
   "metadata": {},
   "source": [
    "### **Importing all the libraries needed to manipulate the data**"
   ]
  },
  {
   "cell_type": "code",
   "execution_count": 8,
   "id": "2720789c-03bd-40bc-9ac7-6d95674934cf",
   "metadata": {},
   "outputs": [],
   "source": [
    "import pandas as pd \n",
    "import matplotlib.pyplot as plt\n",
    "# import numpy as np"
   ]
  },
  {
   "cell_type": "markdown",
   "id": "64053919-6682-4be9-8fca-a6824cb4c07d",
   "metadata": {},
   "source": [
    "#### **Creating sample data from scratch by use of dictionaries i.e key:value pairs as shown below**"
   ]
  },
  {
   "cell_type": "code",
   "execution_count": 9,
   "id": "cb5336a3-2494-469f-881b-22c50de9221b",
   "metadata": {},
   "outputs": [
    {
     "data": {
      "text/plain": [
       "{'Name': ['John Markay', 'Liam Comp', 'Kelly Jane', 'Mary Anne', 'Jumbo Guy'],\n",
       " 'aGE': [23, 10, 45, 27, 31],\n",
       " 'Job Position': ['Executive Director',\n",
       "  'IT specialist',\n",
       "  'Data Scientist',\n",
       "  'Brand Ambassador',\n",
       "  'CEO'],\n",
       " 'SALARY': [120000, 78000, 180000, 45000, 89000]}"
      ]
     },
     "execution_count": 9,
     "metadata": {},
     "output_type": "execute_result"
    }
   ],
   "source": [
    "data = {\"Name\":[\"John Markay\",\"Liam Comp\",\"Kelly Jane\",\"Mary Anne\",\"Jumbo Guy\"],\n",
    "       \"aGE\":[23,10,45,27,31],\n",
    "        \"Job Position\":[\"Executive Director\",\"IT specialist\",\"Data Scientist\", \"Brand Ambassador\",\"CEO\"],\n",
    "       \"SALARY\":[120000,78000,180000,45000,89000]}\n",
    "data"
   ]
  },
  {
   "cell_type": "code",
   "execution_count": 10,
   "id": "23a0a066-c20d-49d4-8ee1-d6e37fcfe1f4",
   "metadata": {},
   "outputs": [
    {
     "data": {
      "text/plain": [
       "dict"
      ]
     },
     "execution_count": 10,
     "metadata": {},
     "output_type": "execute_result"
    }
   ],
   "source": [
    "type(data) # the above data is a python dictionary as indicated in the result below this cell"
   ]
  },
  {
   "cell_type": "markdown",
   "id": "9aee415e-42c6-4d40-ade6-7fb0ab26f4ba",
   "metadata": {},
   "source": [
    "#### **Transforming the above dictionary values into a pandas DataFrame**\n",
    "\n",
    "#### **With all the \"dictionary keys\" as 'column names', while all \"dictionary values\"[lists] as 'records' / rows inside the DataFrame as shown below** "
   ]
  },
  {
   "cell_type": "code",
   "execution_count": 11,
   "id": "a52a1edf-1021-48d4-a744-6de7f34393d8",
   "metadata": {},
   "outputs": [
    {
     "data": {
      "text/html": [
       "<div>\n",
       "<style scoped>\n",
       "    .dataframe tbody tr th:only-of-type {\n",
       "        vertical-align: middle;\n",
       "    }\n",
       "\n",
       "    .dataframe tbody tr th {\n",
       "        vertical-align: top;\n",
       "    }\n",
       "\n",
       "    .dataframe thead th {\n",
       "        text-align: right;\n",
       "    }\n",
       "</style>\n",
       "<table border=\"1\" class=\"dataframe\">\n",
       "  <thead>\n",
       "    <tr style=\"text-align: right;\">\n",
       "      <th></th>\n",
       "      <th>Name</th>\n",
       "      <th>aGE</th>\n",
       "      <th>Job Position</th>\n",
       "      <th>SALARY</th>\n",
       "    </tr>\n",
       "  </thead>\n",
       "  <tbody>\n",
       "    <tr>\n",
       "      <th>0</th>\n",
       "      <td>John Markay</td>\n",
       "      <td>23</td>\n",
       "      <td>Executive Director</td>\n",
       "      <td>120000</td>\n",
       "    </tr>\n",
       "    <tr>\n",
       "      <th>1</th>\n",
       "      <td>Liam Comp</td>\n",
       "      <td>10</td>\n",
       "      <td>IT specialist</td>\n",
       "      <td>78000</td>\n",
       "    </tr>\n",
       "    <tr>\n",
       "      <th>2</th>\n",
       "      <td>Kelly Jane</td>\n",
       "      <td>45</td>\n",
       "      <td>Data Scientist</td>\n",
       "      <td>180000</td>\n",
       "    </tr>\n",
       "    <tr>\n",
       "      <th>3</th>\n",
       "      <td>Mary Anne</td>\n",
       "      <td>27</td>\n",
       "      <td>Brand Ambassador</td>\n",
       "      <td>45000</td>\n",
       "    </tr>\n",
       "    <tr>\n",
       "      <th>4</th>\n",
       "      <td>Jumbo Guy</td>\n",
       "      <td>31</td>\n",
       "      <td>CEO</td>\n",
       "      <td>89000</td>\n",
       "    </tr>\n",
       "  </tbody>\n",
       "</table>\n",
       "</div>"
      ],
      "text/plain": [
       "          Name  aGE        Job Position  SALARY\n",
       "0  John Markay   23  Executive Director  120000\n",
       "1    Liam Comp   10       IT specialist   78000\n",
       "2   Kelly Jane   45      Data Scientist  180000\n",
       "3    Mary Anne   27    Brand Ambassador   45000\n",
       "4    Jumbo Guy   31                 CEO   89000"
      ]
     },
     "execution_count": 11,
     "metadata": {},
     "output_type": "execute_result"
    }
   ],
   "source": [
    "df = pd.DataFrame(data)\n",
    "df"
   ]
  },
  {
   "cell_type": "markdown",
   "id": "8e536a51-26b2-47a2-937c-a90abd85d5de",
   "metadata": {},
   "source": [
    "### Showcasing how simple cleaning of the data above can be done.\n",
    "#### Examples include: Correcting the Column names to a matching case through renaming them, through using the rename() function as shown below. "
   ]
  },
  {
   "cell_type": "code",
   "execution_count": 16,
   "id": "9b3afb1c-69ec-4435-b1d3-6b1eff08c2a9",
   "metadata": {},
   "outputs": [],
   "source": [
    "# Renaming the 'aGE', 'SALARY', and 'Job Position' columns.\n",
    "\n",
    "column_labels = {'Name':'Name',\n",
    "                'aGE':'Age',\n",
    "                'Job Position':'Job_Position',\n",
    "                'SALARY':'Salary'}\n",
    "df.rename(columns = column_labels, inplace=True)"
   ]
  },
  {
   "cell_type": "code",
   "execution_count": 17,
   "id": "e126738f-1008-4dec-85c1-2acec4cdf6ea",
   "metadata": {},
   "outputs": [
    {
     "data": {
      "text/html": [
       "<div>\n",
       "<style scoped>\n",
       "    .dataframe tbody tr th:only-of-type {\n",
       "        vertical-align: middle;\n",
       "    }\n",
       "\n",
       "    .dataframe tbody tr th {\n",
       "        vertical-align: top;\n",
       "    }\n",
       "\n",
       "    .dataframe thead th {\n",
       "        text-align: right;\n",
       "    }\n",
       "</style>\n",
       "<table border=\"1\" class=\"dataframe\">\n",
       "  <thead>\n",
       "    <tr style=\"text-align: right;\">\n",
       "      <th></th>\n",
       "      <th>Name</th>\n",
       "      <th>Age</th>\n",
       "      <th>Job_Position</th>\n",
       "      <th>Salary</th>\n",
       "    </tr>\n",
       "  </thead>\n",
       "  <tbody>\n",
       "    <tr>\n",
       "      <th>0</th>\n",
       "      <td>John Markay</td>\n",
       "      <td>23</td>\n",
       "      <td>Executive Director</td>\n",
       "      <td>120000</td>\n",
       "    </tr>\n",
       "    <tr>\n",
       "      <th>1</th>\n",
       "      <td>Liam Comp</td>\n",
       "      <td>10</td>\n",
       "      <td>IT specialist</td>\n",
       "      <td>78000</td>\n",
       "    </tr>\n",
       "    <tr>\n",
       "      <th>2</th>\n",
       "      <td>Kelly Jane</td>\n",
       "      <td>45</td>\n",
       "      <td>Data Scientist</td>\n",
       "      <td>180000</td>\n",
       "    </tr>\n",
       "    <tr>\n",
       "      <th>3</th>\n",
       "      <td>Mary Anne</td>\n",
       "      <td>27</td>\n",
       "      <td>Brand Ambassador</td>\n",
       "      <td>45000</td>\n",
       "    </tr>\n",
       "    <tr>\n",
       "      <th>4</th>\n",
       "      <td>Jumbo Guy</td>\n",
       "      <td>31</td>\n",
       "      <td>CEO</td>\n",
       "      <td>89000</td>\n",
       "    </tr>\n",
       "  </tbody>\n",
       "</table>\n",
       "</div>"
      ],
      "text/plain": [
       "          Name  Age        Job_Position  Salary\n",
       "0  John Markay   23  Executive Director  120000\n",
       "1    Liam Comp   10       IT specialist   78000\n",
       "2   Kelly Jane   45      Data Scientist  180000\n",
       "3    Mary Anne   27    Brand Ambassador   45000\n",
       "4    Jumbo Guy   31                 CEO   89000"
      ]
     },
     "execution_count": 17,
     "metadata": {},
     "output_type": "execute_result"
    }
   ],
   "source": [
    "# Taking a quick look at the dataset with the renamed columns\n",
    "df"
   ]
  },
  {
   "cell_type": "markdown",
   "id": "4ec871b0-7782-4262-a75d-d674d1d11603",
   "metadata": {},
   "source": [
    "#### **The cells below show some more information about the dataset above, and other simple stats about the dataFrame above**"
   ]
  },
  {
   "cell_type": "code",
   "execution_count": 6,
   "id": "0ae98b9c-10ca-4cc2-89f6-b36d21a16a4c",
   "metadata": {},
   "outputs": [
    {
     "data": {
      "text/plain": [
       "RangeIndex(start=0, stop=5, step=1)"
      ]
     },
     "execution_count": 6,
     "metadata": {},
     "output_type": "execute_result"
    }
   ],
   "source": [
    "df.index"
   ]
  },
  {
   "cell_type": "code",
   "execution_count": 7,
   "id": "c212db02-bb5c-4ae6-a74e-b6a87499bd95",
   "metadata": {},
   "outputs": [
    {
     "data": {
      "text/plain": [
       "Name            object\n",
       "Age              int64\n",
       "Job_Position    object\n",
       "Salary           int64\n",
       "dtype: object"
      ]
     },
     "execution_count": 7,
     "metadata": {},
     "output_type": "execute_result"
    }
   ],
   "source": [
    "df.dtypes"
   ]
  },
  {
   "cell_type": "code",
   "execution_count": 33,
   "id": "30a04b69-8ef2-42f1-8454-423adc0242f8",
   "metadata": {},
   "outputs": [
    {
     "data": {
      "text/html": [
       "<div>\n",
       "<style scoped>\n",
       "    .dataframe tbody tr th:only-of-type {\n",
       "        vertical-align: middle;\n",
       "    }\n",
       "\n",
       "    .dataframe tbody tr th {\n",
       "        vertical-align: top;\n",
       "    }\n",
       "\n",
       "    .dataframe thead th {\n",
       "        text-align: right;\n",
       "    }\n",
       "</style>\n",
       "<table border=\"1\" class=\"dataframe\">\n",
       "  <thead>\n",
       "    <tr style=\"text-align: right;\">\n",
       "      <th></th>\n",
       "      <th>Salary</th>\n",
       "    </tr>\n",
       "  </thead>\n",
       "  <tbody>\n",
       "    <tr>\n",
       "      <th>3</th>\n",
       "      <td>45000.0</td>\n",
       "    </tr>\n",
       "    <tr>\n",
       "      <th>1</th>\n",
       "      <td>78000.0</td>\n",
       "    </tr>\n",
       "    <tr>\n",
       "      <th>4</th>\n",
       "      <td>89000.0</td>\n",
       "    </tr>\n",
       "    <tr>\n",
       "      <th>0</th>\n",
       "      <td>120000.0</td>\n",
       "    </tr>\n",
       "    <tr>\n",
       "      <th>2</th>\n",
       "      <td>180000.0</td>\n",
       "    </tr>\n",
       "  </tbody>\n",
       "</table>\n",
       "</div>"
      ],
      "text/plain": [
       "     Salary\n",
       "3   45000.0\n",
       "1   78000.0\n",
       "4   89000.0\n",
       "0  120000.0\n",
       "2  180000.0"
      ]
     },
     "execution_count": 33,
     "metadata": {},
     "output_type": "execute_result"
    }
   ],
   "source": [
    "# Finding out the lowest salary within the dataset by arranging values in ascending order i.e lowest to highest.\n",
    "\n",
    "df[['Salary']].astype(float).sort_values(by='Salary')"
   ]
  },
  {
   "cell_type": "code",
   "execution_count": 34,
   "id": "4339e53e-8943-4065-a131-5546af7c634e",
   "metadata": {},
   "outputs": [],
   "source": [
    "# df.dtypes"
   ]
  },
  {
   "cell_type": "code",
   "execution_count": 35,
   "id": "9309f463-118e-4ae4-8d5e-375ce8cf0667",
   "metadata": {},
   "outputs": [
    {
     "data": {
      "text/html": [
       "<div>\n",
       "<style scoped>\n",
       "    .dataframe tbody tr th:only-of-type {\n",
       "        vertical-align: middle;\n",
       "    }\n",
       "\n",
       "    .dataframe tbody tr th {\n",
       "        vertical-align: top;\n",
       "    }\n",
       "\n",
       "    .dataframe thead th {\n",
       "        text-align: right;\n",
       "    }\n",
       "</style>\n",
       "<table border=\"1\" class=\"dataframe\">\n",
       "  <thead>\n",
       "    <tr style=\"text-align: right;\">\n",
       "      <th></th>\n",
       "      <th>Salary</th>\n",
       "    </tr>\n",
       "  </thead>\n",
       "  <tbody>\n",
       "    <tr>\n",
       "      <th>2</th>\n",
       "      <td>180000.0</td>\n",
       "    </tr>\n",
       "    <tr>\n",
       "      <th>0</th>\n",
       "      <td>120000.0</td>\n",
       "    </tr>\n",
       "    <tr>\n",
       "      <th>4</th>\n",
       "      <td>89000.0</td>\n",
       "    </tr>\n",
       "    <tr>\n",
       "      <th>1</th>\n",
       "      <td>78000.0</td>\n",
       "    </tr>\n",
       "    <tr>\n",
       "      <th>3</th>\n",
       "      <td>45000.0</td>\n",
       "    </tr>\n",
       "  </tbody>\n",
       "</table>\n",
       "</div>"
      ],
      "text/plain": [
       "     Salary\n",
       "2  180000.0\n",
       "0  120000.0\n",
       "4   89000.0\n",
       "1   78000.0\n",
       "3   45000.0"
      ]
     },
     "execution_count": 35,
     "metadata": {},
     "output_type": "execute_result"
    }
   ],
   "source": [
    "# Finding out the highest salary within the dataset by arranging values in descending order i.e highest to lowest.\n",
    "\n",
    "df[['Salary']].astype(float).sort_values(by='Salary',ascending=False)"
   ]
  },
  {
   "cell_type": "code",
   "execution_count": 36,
   "id": "1acc254b-ae5a-44ef-8e61-726b9902f98b",
   "metadata": {},
   "outputs": [
    {
     "data": {
      "text/plain": [
       "102400.0"
      ]
     },
     "execution_count": 36,
     "metadata": {},
     "output_type": "execute_result"
    }
   ],
   "source": [
    "# Average salary\n",
    "\n",
    "df_average_salary = df['Salary'].mean()\n",
    "df_average_salary"
   ]
  },
  {
   "cell_type": "code",
   "execution_count": 37,
   "id": "56005fc7-6bea-4658-beec-1e1e0d24359b",
   "metadata": {},
   "outputs": [
    {
     "data": {
      "text/plain": [
       "180000"
      ]
     },
     "execution_count": 37,
     "metadata": {},
     "output_type": "execute_result"
    }
   ],
   "source": [
    "# Highest salary paid\n",
    "\n",
    "df_maximum_salary = df['Salary'].max()\n",
    "df_maximum_salary"
   ]
  },
  {
   "cell_type": "code",
   "execution_count": 38,
   "id": "fb4763b0-6591-43bf-9160-d655e30f1c31",
   "metadata": {},
   "outputs": [
    {
     "data": {
      "text/plain": [
       "45000"
      ]
     },
     "execution_count": 38,
     "metadata": {},
     "output_type": "execute_result"
    }
   ],
   "source": [
    "# Lowest salary paid\n",
    "\n",
    "df_minimum_salary = df['Salary'].min()\n",
    "df_minimum_salary"
   ]
  },
  {
   "cell_type": "code",
   "execution_count": 39,
   "id": "b495efa6-7726-479f-90d9-6eeaa9ef07b1",
   "metadata": {},
   "outputs": [
    {
     "data": {
      "text/plain": [
       "50993.14"
      ]
     },
     "execution_count": 39,
     "metadata": {},
     "output_type": "execute_result"
    }
   ],
   "source": [
    "# Standard deviation along the salary column\n",
    "\n",
    "df_std_salary =  round(df['Salary'].std(),2)\n",
    "df_std_salary"
   ]
  },
  {
   "cell_type": "code",
   "execution_count": 40,
   "id": "6d313734-d130-49b1-acf8-30961ccc6a64",
   "metadata": {},
   "outputs": [],
   "source": [
    "# Creating a new column to hold the 15% salary increment for each employee\n",
    "\n",
    "df['15% salary Increase'] = df['Salary'] * 15/100"
   ]
  },
  {
   "cell_type": "code",
   "execution_count": 41,
   "id": "8214c68d-7e77-44d2-b592-9534ce8c49e7",
   "metadata": {},
   "outputs": [
    {
     "data": {
      "text/html": [
       "<div>\n",
       "<style scoped>\n",
       "    .dataframe tbody tr th:only-of-type {\n",
       "        vertical-align: middle;\n",
       "    }\n",
       "\n",
       "    .dataframe tbody tr th {\n",
       "        vertical-align: top;\n",
       "    }\n",
       "\n",
       "    .dataframe thead th {\n",
       "        text-align: right;\n",
       "    }\n",
       "</style>\n",
       "<table border=\"1\" class=\"dataframe\">\n",
       "  <thead>\n",
       "    <tr style=\"text-align: right;\">\n",
       "      <th></th>\n",
       "      <th>Name</th>\n",
       "      <th>Age</th>\n",
       "      <th>Job_Position</th>\n",
       "      <th>Salary</th>\n",
       "      <th>15% salary Increase</th>\n",
       "    </tr>\n",
       "  </thead>\n",
       "  <tbody>\n",
       "    <tr>\n",
       "      <th>0</th>\n",
       "      <td>John Markay</td>\n",
       "      <td>23</td>\n",
       "      <td>Executive Director</td>\n",
       "      <td>120000</td>\n",
       "      <td>18000.0</td>\n",
       "    </tr>\n",
       "    <tr>\n",
       "      <th>1</th>\n",
       "      <td>Liam Comp</td>\n",
       "      <td>10</td>\n",
       "      <td>IT specialist</td>\n",
       "      <td>78000</td>\n",
       "      <td>11700.0</td>\n",
       "    </tr>\n",
       "    <tr>\n",
       "      <th>2</th>\n",
       "      <td>Kelly Jane</td>\n",
       "      <td>45</td>\n",
       "      <td>Data Scientist</td>\n",
       "      <td>180000</td>\n",
       "      <td>27000.0</td>\n",
       "    </tr>\n",
       "    <tr>\n",
       "      <th>3</th>\n",
       "      <td>Mary Anne</td>\n",
       "      <td>27</td>\n",
       "      <td>Brand Ambassador</td>\n",
       "      <td>45000</td>\n",
       "      <td>6750.0</td>\n",
       "    </tr>\n",
       "    <tr>\n",
       "      <th>4</th>\n",
       "      <td>Jumbo Guy</td>\n",
       "      <td>31</td>\n",
       "      <td>CEO</td>\n",
       "      <td>89000</td>\n",
       "      <td>13350.0</td>\n",
       "    </tr>\n",
       "  </tbody>\n",
       "</table>\n",
       "</div>"
      ],
      "text/plain": [
       "          Name  Age        Job_Position  Salary  15% salary Increase\n",
       "0  John Markay   23  Executive Director  120000              18000.0\n",
       "1    Liam Comp   10       IT specialist   78000              11700.0\n",
       "2   Kelly Jane   45      Data Scientist  180000              27000.0\n",
       "3    Mary Anne   27    Brand Ambassador   45000               6750.0\n",
       "4    Jumbo Guy   31                 CEO   89000              13350.0"
      ]
     },
     "execution_count": 41,
     "metadata": {},
     "output_type": "execute_result"
    }
   ],
   "source": [
    "df #Checking to confirm if the new column has been successfully created and added to the DataFrame"
   ]
  },
  {
   "cell_type": "code",
   "execution_count": 42,
   "id": "8aba6506-fb73-40f8-9fb1-6e80d5b15ab0",
   "metadata": {},
   "outputs": [],
   "source": [
    "# Creating another new column to hold the 'Gross Salary' of each employee after adding their 15% salary increment\n",
    "\n",
    "df['Gross Salary'] = df['15% salary Increase'] + df['Salary']"
   ]
  },
  {
   "cell_type": "code",
   "execution_count": 43,
   "id": "89b7767f-04f2-40bc-978d-2b5e81ea796c",
   "metadata": {},
   "outputs": [
    {
     "data": {
      "text/html": [
       "<div>\n",
       "<style scoped>\n",
       "    .dataframe tbody tr th:only-of-type {\n",
       "        vertical-align: middle;\n",
       "    }\n",
       "\n",
       "    .dataframe tbody tr th {\n",
       "        vertical-align: top;\n",
       "    }\n",
       "\n",
       "    .dataframe thead th {\n",
       "        text-align: right;\n",
       "    }\n",
       "</style>\n",
       "<table border=\"1\" class=\"dataframe\">\n",
       "  <thead>\n",
       "    <tr style=\"text-align: right;\">\n",
       "      <th></th>\n",
       "      <th>Name</th>\n",
       "      <th>Age</th>\n",
       "      <th>Job_Position</th>\n",
       "      <th>Salary</th>\n",
       "      <th>15% salary Increase</th>\n",
       "      <th>Gross Salary</th>\n",
       "    </tr>\n",
       "  </thead>\n",
       "  <tbody>\n",
       "    <tr>\n",
       "      <th>0</th>\n",
       "      <td>John Markay</td>\n",
       "      <td>23</td>\n",
       "      <td>Executive Director</td>\n",
       "      <td>120000</td>\n",
       "      <td>18000.0</td>\n",
       "      <td>138000.0</td>\n",
       "    </tr>\n",
       "    <tr>\n",
       "      <th>1</th>\n",
       "      <td>Liam Comp</td>\n",
       "      <td>10</td>\n",
       "      <td>IT specialist</td>\n",
       "      <td>78000</td>\n",
       "      <td>11700.0</td>\n",
       "      <td>89700.0</td>\n",
       "    </tr>\n",
       "    <tr>\n",
       "      <th>2</th>\n",
       "      <td>Kelly Jane</td>\n",
       "      <td>45</td>\n",
       "      <td>Data Scientist</td>\n",
       "      <td>180000</td>\n",
       "      <td>27000.0</td>\n",
       "      <td>207000.0</td>\n",
       "    </tr>\n",
       "    <tr>\n",
       "      <th>3</th>\n",
       "      <td>Mary Anne</td>\n",
       "      <td>27</td>\n",
       "      <td>Brand Ambassador</td>\n",
       "      <td>45000</td>\n",
       "      <td>6750.0</td>\n",
       "      <td>51750.0</td>\n",
       "    </tr>\n",
       "    <tr>\n",
       "      <th>4</th>\n",
       "      <td>Jumbo Guy</td>\n",
       "      <td>31</td>\n",
       "      <td>CEO</td>\n",
       "      <td>89000</td>\n",
       "      <td>13350.0</td>\n",
       "      <td>102350.0</td>\n",
       "    </tr>\n",
       "  </tbody>\n",
       "</table>\n",
       "</div>"
      ],
      "text/plain": [
       "          Name  Age        Job_Position  Salary  15% salary Increase  \\\n",
       "0  John Markay   23  Executive Director  120000              18000.0   \n",
       "1    Liam Comp   10       IT specialist   78000              11700.0   \n",
       "2   Kelly Jane   45      Data Scientist  180000              27000.0   \n",
       "3    Mary Anne   27    Brand Ambassador   45000               6750.0   \n",
       "4    Jumbo Guy   31                 CEO   89000              13350.0   \n",
       "\n",
       "   Gross Salary  \n",
       "0      138000.0  \n",
       "1       89700.0  \n",
       "2      207000.0  \n",
       "3       51750.0  \n",
       "4      102350.0  "
      ]
     },
     "execution_count": 43,
     "metadata": {},
     "output_type": "execute_result"
    }
   ],
   "source": [
    "df #Checking to confirm if the new column has been successfully created and added to the DataFrame"
   ]
  },
  {
   "cell_type": "code",
   "execution_count": 44,
   "id": "36fa16d7-2087-4ffb-9dad-7ae43216a4ad",
   "metadata": {},
   "outputs": [
    {
     "data": {
      "text/html": [
       "<div>\n",
       "<style scoped>\n",
       "    .dataframe tbody tr th:only-of-type {\n",
       "        vertical-align: middle;\n",
       "    }\n",
       "\n",
       "    .dataframe tbody tr th {\n",
       "        vertical-align: top;\n",
       "    }\n",
       "\n",
       "    .dataframe thead th {\n",
       "        text-align: right;\n",
       "    }\n",
       "</style>\n",
       "<table border=\"1\" class=\"dataframe\">\n",
       "  <thead>\n",
       "    <tr style=\"text-align: right;\">\n",
       "      <th></th>\n",
       "      <th>Name</th>\n",
       "      <th>Age</th>\n",
       "      <th>Job_Position</th>\n",
       "      <th>Salary</th>\n",
       "      <th>15% salary Increase</th>\n",
       "      <th>Gross Salary</th>\n",
       "    </tr>\n",
       "  </thead>\n",
       "  <tbody>\n",
       "    <tr>\n",
       "      <th>2</th>\n",
       "      <td>Kelly Jane</td>\n",
       "      <td>45</td>\n",
       "      <td>Data Scientist</td>\n",
       "      <td>180000</td>\n",
       "      <td>27000.0</td>\n",
       "      <td>207000.0</td>\n",
       "    </tr>\n",
       "    <tr>\n",
       "      <th>0</th>\n",
       "      <td>John Markay</td>\n",
       "      <td>23</td>\n",
       "      <td>Executive Director</td>\n",
       "      <td>120000</td>\n",
       "      <td>18000.0</td>\n",
       "      <td>138000.0</td>\n",
       "    </tr>\n",
       "    <tr>\n",
       "      <th>4</th>\n",
       "      <td>Jumbo Guy</td>\n",
       "      <td>31</td>\n",
       "      <td>CEO</td>\n",
       "      <td>89000</td>\n",
       "      <td>13350.0</td>\n",
       "      <td>102350.0</td>\n",
       "    </tr>\n",
       "    <tr>\n",
       "      <th>1</th>\n",
       "      <td>Liam Comp</td>\n",
       "      <td>10</td>\n",
       "      <td>IT specialist</td>\n",
       "      <td>78000</td>\n",
       "      <td>11700.0</td>\n",
       "      <td>89700.0</td>\n",
       "    </tr>\n",
       "    <tr>\n",
       "      <th>3</th>\n",
       "      <td>Mary Anne</td>\n",
       "      <td>27</td>\n",
       "      <td>Brand Ambassador</td>\n",
       "      <td>45000</td>\n",
       "      <td>6750.0</td>\n",
       "      <td>51750.0</td>\n",
       "    </tr>\n",
       "  </tbody>\n",
       "</table>\n",
       "</div>"
      ],
      "text/plain": [
       "          Name  Age        Job_Position  Salary  15% salary Increase  \\\n",
       "2   Kelly Jane   45      Data Scientist  180000              27000.0   \n",
       "0  John Markay   23  Executive Director  120000              18000.0   \n",
       "4    Jumbo Guy   31                 CEO   89000              13350.0   \n",
       "1    Liam Comp   10       IT specialist   78000              11700.0   \n",
       "3    Mary Anne   27    Brand Ambassador   45000               6750.0   \n",
       "\n",
       "   Gross Salary  \n",
       "2      207000.0  \n",
       "0      138000.0  \n",
       "4      102350.0  \n",
       "1       89700.0  \n",
       "3       51750.0  "
      ]
     },
     "execution_count": 44,
     "metadata": {},
     "output_type": "execute_result"
    }
   ],
   "source": [
    "# Sorting the new dataFrame with the new columns in descending order i.e highest to lowest Gross Salary using the 'Gross Salary' column\n",
    "\n",
    "df.sort_values(by='Gross Salary', ascending=False)"
   ]
  },
  {
   "cell_type": "markdown",
   "id": "4e907a41-d7f7-4cef-9d5a-9f459953cde1",
   "metadata": {},
   "source": [
    "#### **Sample plot of the 'Gross Salary' and the 'Name columns' from the above dataFrame**"
   ]
  },
  {
   "cell_type": "code",
   "execution_count": 45,
   "id": "f5baad12-024c-404d-a057-a1157bfebedc",
   "metadata": {},
   "outputs": [
    {
     "data": {
      "image/png": "[encoded data removed]",
      "text/plain": [
       "<Figure size 640x480 with 1 Axes>"
      ]
     },
     "metadata": {},
     "output_type": "display_data"
    }
   ],
   "source": [
    "plt.bar(df['Name'], df['Gross Salary'].sort_values())\n",
    "plt.title('Bar graph showing Salary against each Employee name.')\n",
    "plt.xlabel('Employee Name')\n",
    "plt.ylabel('Gross Salary')\n",
    "plt.show()"
   ]
  },
  {
   "cell_type": "code",
   "execution_count": null,
   "id": "60376c87-3b44-41af-964c-b45a8898c438",
   "metadata": {},
   "outputs": [],
   "source": []
  }
 ],
 "metadata": {
  "kernelspec": {
   "display_name": "Python 3 (ipykernel)",
   "language": "python",
   "name": "python3"
  },
  "language_info": {
   "codemirror_mode": {
    "name": "ipython",
    "version": 3
   },
   "file_extension": ".py",
   "mimetype": "text/x-python",
   "name": "python",
   "nbconvert_exporter": "python",
   "pygments_lexer": "ipython3",
   "version": "3.9.7"
  }
 },
 "nbformat": 4,
 "nbformat_minor": 5
}
