{
 "cells": [
  {
   "cell_type": "markdown",
   "id": "12bb22d8-c921-4338-a1a1-f7efcd38c4ab",
   "metadata": {},
   "source": [
    "## This project involves simple data wrangling in python Dictionaries, lists using a python module called Pandas.\n",
    " ### It's goal is to showcase how amazing python is when it comes to data wrangling and simple analysis."
   ]
  },
  {
   "cell_type": "code",
   "execution_count": 1,
   "id": "1b7c6532-03d8-4143-8bfb-d26413b3af5e",
   "metadata": {},
   "outputs": [],
   "source": [
    "# Importing and running the pandas module to be used in the project. \n",
    "\n",
    "import pandas as pd"
   ]
  },
  {
   "cell_type": "code",
   "execution_count": 3,
   "id": "1ab12c99-fb18-4b46-9aaa-712f01efd576",
   "metadata": {},
   "outputs": [],
   "source": [
    "# Creating a python Dictionary called \"named_column\" with \"key:Value\" pairs as shown below. \n",
    "\n",
    "simple_data = ['andre', 'joseiah','lincoln','matt']\n",
    "named_column = {\"Firstname\": simple_data,\n",
    "                \"Lastname\": ['beans', 'gong', 'pallete', 'renne'],\n",
    "                \"Age\": [12,14, 45, 56],\n",
    "                \"Hobby\":['Reading','Soccer', 'Cycling', 'Coding']}\n",
    "# print(simple_data)"
   ]
  },
  {
   "cell_type": "code",
   "execution_count": 4,
   "id": "7ae437d3-749a-4b28-a499-727170f6d64e",
   "metadata": {},
   "outputs": [
    {
     "name": "stdout",
     "output_type": "stream",
     "text": [
      "  Firstname Lastname  Age    Hobby\n",
      "0     andre    beans   12  Reading\n",
      "1   joseiah     gong   14   Soccer\n",
      "2   lincoln  pallete   45  Cycling\n",
      "3      matt    renne   56   Coding\n"
     ]
    }
   ],
   "source": [
    "# Converting the above Dictionary to a pandas DataFrame called \"data\"\n",
    "\n",
    "data = pd.DataFrame(named_column)\n",
    "print(data)"
   ]
  },
  {
   "cell_type": "code",
   "execution_count": 5,
   "id": "8d9a869b-e791-4cc0-8866-1812ba2ecde6",
   "metadata": {},
   "outputs": [
    {
     "name": "stdout",
     "output_type": "stream",
     "text": [
      "0    12\n",
      "1    14\n",
      "2    45\n",
      "3    56\n",
      "Name: Age, dtype: int64\n"
     ]
    }
   ],
   "source": [
    "# Example shwoing how to select a single column from a pandas DataFrame through first assigning the targeted column to a named variable. \n",
    "\n",
    "data_select_column = data['Age']\n",
    "print(data_select_column)"
   ]
  },
  {
   "cell_type": "code",
   "execution_count": 6,
   "id": "20ed5d12-3725-43ce-90f9-f789f5ccd3b3",
   "metadata": {},
   "outputs": [
    {
     "name": "stdout",
     "output_type": "stream",
     "text": [
      "joseiah\n"
     ]
    }
   ],
   "source": [
    "# Example showing to select a specific value from a column using the it's index / position in a desired column i.e \".iloc[]\"\n",
    "\n",
    "data_select_row = data.iloc[1][\"Firstname\"]\n",
    "print(data_select_row)"
   ]
  },
  {
   "cell_type": "code",
   "execution_count": 7,
   "id": "a8b91f75-478d-4251-84be-b5f2ac073fc8",
   "metadata": {},
   "outputs": [
    {
     "name": "stdout",
     "output_type": "stream",
     "text": [
      "  Firstname Lastname  Age    Hobby  weight\n",
      "0     andre    beans   12  Reading    56.2\n",
      "1   joseiah     gong   14   Soccer    56.4\n",
      "2   lincoln  pallete   45  Cycling    59.5\n",
      "3      matt    renne   56   Coding    60.6\n"
     ]
    }
   ],
   "source": [
    "# Creating an empty list of values called \"Weight\", \n",
    "# programatically calculating the weight values and assigning them to the \"weight_value\" variable as shown below,\n",
    "# appending the calculated \"weight_value\" values to the empty weight list,\n",
    "# finally adding the \"weight_value\" resultant list of values as a new column called \"weight\" to the data above.\n",
    "\n",
    "\n",
    "weight = []\n",
    "\n",
    "for i in range(len(data)):\n",
    "    weight_value = (data[\"Age\"][i]/10) + 55\n",
    "    weight.append(weight_value)\n",
    "\n",
    "data[\"weight\"] = weight\n",
    "print(data)"
   ]
  },
  {
   "cell_type": "code",
   "execution_count": 8,
   "id": "c674f96a-9027-4bea-86c4-a18e28384f78",
   "metadata": {},
   "outputs": [
    {
     "name": "stdout",
     "output_type": "stream",
     "text": [
      "  Firstname Lastname  Age    Hobby  weight  height\n",
      "0     andre    beans   12  Reading    56.2    21.4\n",
      "1   joseiah     gong   14   Soccer    56.4    24.8\n",
      "2   lincoln  pallete   45  Cycling    59.5    75.6\n",
      "3      matt    renne   56   Coding    60.6    92.4\n"
     ]
    }
   ],
   "source": [
    "# Creating an empty list of values called \"height\", \n",
    "# programatically calculating the height values and assigning them to the \"height_value\" variable,\n",
    "# rounding off trhe resultant height_value to a single decimal point and assigning it to a new variable called \"height_value_2\" as shown below,\n",
    "# appending the calculated \"heightt_value_2\" values to the empty height list,\n",
    "# finally adding the \"height_value_2\" resultant list of values as a new column called \"height\" to the data above.\n",
    "\n",
    "\n",
    "\n",
    "height = []\n",
    "for i in range(len(data)):\n",
    "    height_value = data[\"Age\"][i]/data[\"weight\"][i]*100\n",
    "    height_value_2 = round(height_value, 1)\n",
    "    height.append(height_value_2)\n",
    "data[\"height\"] = height\n",
    "print(data)"
   ]
  },
  {
   "cell_type": "code",
   "execution_count": 9,
   "id": "b7ef9b30-4bc7-40ff-b03d-d03d68df24b5",
   "metadata": {},
   "outputs": [
    {
     "name": "stdout",
     "output_type": "stream",
     "text": [
      "  Firstname Lastname  Age    Hobby  weight  height  bmi\n",
      "0     andre    beans   12  Reading    56.2    21.4  0.1\n",
      "1   joseiah     gong   14   Soccer    56.4    24.8  0.1\n",
      "2   lincoln  pallete   45  Cycling    59.5    75.6  0.0\n",
      "3      matt    renne   56   Coding    60.6    92.4  0.0\n"
     ]
    }
   ],
   "source": [
    "# bmi formula = weight / (height ** 2)\n",
    "\n",
    "# Using a few steps as in the immediate 2 cells above, replacing the variables and programatically performing calculations,\n",
    "# calculated the \"body mass index\" i.e bmi of each person using the bmi formula highlighted above.\n",
    "\n",
    "\n",
    "bmi = []\n",
    "\n",
    "for i in range(len(data)):\n",
    "    bmi_value = round(data[\"weight\"][i]/(data[\"height\"][i]**2),1)\n",
    "    bmi.append(bmi_value)\n",
    "data[\"bmi\"] = bmi\n",
    "print(data)"
   ]
  },
  {
   "cell_type": "code",
   "execution_count": 12,
   "id": "95132f20-160c-4e5a-8ba3-ec3c74cd2d0c",
   "metadata": {},
   "outputs": [
    {
     "name": "stdout",
     "output_type": "stream",
     "text": [
      "  Firstname Lastname  Age    Hobby  weight  height  bmi\n",
      "1   joseiah     gong   14   Soccer    56.4    24.8  0.1\n",
      "2   lincoln  pallete   45  Cycling    59.5    75.6  0.0\n"
     ]
    }
   ],
   "source": [
    "# The example below shows how to select a whole record from a pandas DataFrame.\n",
    "# Using list indexes and slicing, the example below shows how to select from the 2nd record top the 3rd record of the dataset.\n",
    "# Python indexing always starts at zero counting upwards unless otherwise dealing with different instances of the data.\n",
    "# i.e the slicing keeps the first slice value i.e 1, then subtracts one from the second slice value i.e 3-1,\n",
    "# therefore producing the resultant slice values as, from the second i.e 1 to the third  i.e 2, showing the new result as basically the results in positions 1 & 2 as below. \n",
    "\n",
    "\n",
    "data_select_3 = data.iloc[1:3]\n",
    "print(data_select_3)"
   ]
  },
  {
   "cell_type": "code",
   "execution_count": 22,
   "id": "e05d173d-18a3-4ac4-b36a-55c870202b8c",
   "metadata": {},
   "outputs": [
    {
     "name": "stdout",
     "output_type": "stream",
     "text": [
      "1    24.8\n",
      "2    75.6\n",
      "Name: height, dtype: float64\n"
     ]
    }
   ],
   "source": [
    "# Selecting a range of values from a specific column name using slicing and indexes in python\n",
    "# in this case it's selecting from the 2nd to the 3rd values of \"height\" column.\n",
    "\n",
    "data_select_4 = data.iloc[1:3][\"height\"]\n",
    "print(data_select_4)"
   ]
  },
  {
   "cell_type": "code",
   "execution_count": 13,
   "id": "68e52525-3d8f-440b-9685-f1177cf19712",
   "metadata": {},
   "outputs": [
    {
     "name": "stdout",
     "output_type": "stream",
     "text": [
      "  Firstname Lastname  Age    Hobby  weight  height  bmi\n",
      "0     andre    beans   12  Reading    56.2    21.4  0.1\n",
      "1   joseiah     gong   14   Soccer    56.4    24.8  0.1\n",
      "2   lincoln  pallete   45  Cycling    59.5    75.6  0.0\n",
      "3      matt    renne   56   Coding    60.6    92.4  0.0\n"
     ]
    }
   ],
   "source": [
    "# checking on the data above again to see if there's any errors by using the print() function inbuilt into python libraries.  \n",
    "\n",
    "print(data)"
   ]
  },
  {
   "cell_type": "code",
   "execution_count": 14,
   "id": "45a07605-2386-4aa6-9bfd-4be8f30bf09f",
   "metadata": {},
   "outputs": [
    {
     "name": "stdout",
     "output_type": "stream",
     "text": [
      "None\n"
     ]
    }
   ],
   "source": [
    "# Writing / Saving a copy of the above created data as csv file called \"data.csv\"\n",
    "\n",
    "data_csv_file = data.to_csv('data.csv')\n",
    "print(data_csv_file)"
   ]
  },
  {
   "cell_type": "code",
   "execution_count": 15,
   "id": "8874d763-63a8-4fae-a3a5-3b03b32c2e01",
   "metadata": {},
   "outputs": [
    {
     "name": "stdout",
     "output_type": "stream",
     "text": [
      "None\n"
     ]
    }
   ],
   "source": [
    "# Writing / Saving a copy of the above data as an excel file called \"data.xlsx\"\n",
    "\n",
    "data_excel_file = data.to_excel('data.xlsx')\n",
    "print(data_excel_file)"
   ]
  },
  {
   "cell_type": "code",
   "execution_count": null,
   "id": "4ff02c94-4ca8-43b7-8d8a-ffaf0d4b881a",
   "metadata": {},
   "outputs": [],
   "source": []
  }
 ],
 "metadata": {
  "kernelspec": {
   "display_name": "Python 3 (ipykernel)",
   "language": "python",
   "name": "python3"
  },
  "language_info": {
   "codemirror_mode": {
    "name": "ipython",
    "version": 3
   },
   "file_extension": ".py",
   "mimetype": "text/x-python",
   "name": "python",
   "nbconvert_exporter": "python",
   "pygments_lexer": "ipython3",
   "version": "3.9.7"
  }
 },
 "nbformat": 4,
 "nbformat_minor": 5
}
